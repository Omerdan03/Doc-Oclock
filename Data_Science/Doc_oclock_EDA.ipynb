{
  "nbformat": 4,
  "nbformat_minor": 0,
  "metadata": {
    "colab": {
      "name": "Doc_oclock_EDA.ipynb",
      "provenance": [],
      "collapsed_sections": []
    },
    "kernelspec": {
      "name": "python3",
      "display_name": "Python 3"
    },
    "accelerator": "GPU"
  },
  "cells": [
    {
      "cell_type": "code",
      "metadata": {
        "id": "WAiS6UoSqZ3A"
      },
      "source": [
        "import pandas as pd\n",
        "import numpy as np\n",
        "import datetime\n",
        "from time import strftime\n",
        "import calendar\n",
        "\n",
        "from sklearn.model_selection import train_test_split\n",
        "from sklearn.model_selection import GridSearchCV\n",
        "from sklearn.preprocessing import LabelEncoder\n",
        "\n",
        "from sklearn.tree import DecisionTreeClassifier\n",
        "from sklearn.ensemble import RandomForestClassifier\n",
        "\n",
        "import matplotlib.pyplot as plt\n",
        "%matplotlib inline\n",
        "\n",
        "import seaborn as sns"
      ],
      "execution_count": 1,
      "outputs": []
    },
    {
      "cell_type": "code",
      "metadata": {
        "colab": {
          "base_uri": "https://localhost:8080/"
        },
        "id": "Y4flqGKuVzRE",
        "outputId": "974cbb2c-12ef-40b3-a655-4378ab0167a8"
      },
      "source": [
        "! pip install livelossplot"
      ],
      "execution_count": 2,
      "outputs": [
        {
          "output_type": "stream",
          "text": [
            "Requirement already satisfied: livelossplot in /usr/local/lib/python3.6/dist-packages (0.5.3)\n",
            "Requirement already satisfied: matplotlib; python_version >= \"3.6\" in /usr/local/lib/python3.6/dist-packages (from livelossplot) (3.2.2)\n",
            "Requirement already satisfied: ipython in /usr/local/lib/python3.6/dist-packages (from livelossplot) (5.5.0)\n",
            "Requirement already satisfied: bokeh; python_version >= \"3.6\" in /usr/local/lib/python3.6/dist-packages (from livelossplot) (2.1.1)\n",
            "Requirement already satisfied: python-dateutil>=2.1 in /usr/local/lib/python3.6/dist-packages (from matplotlib; python_version >= \"3.6\"->livelossplot) (2.8.1)\n",
            "Requirement already satisfied: numpy>=1.11 in /usr/local/lib/python3.6/dist-packages (from matplotlib; python_version >= \"3.6\"->livelossplot) (1.19.5)\n",
            "Requirement already satisfied: pyparsing!=2.0.4,!=2.1.2,!=2.1.6,>=2.0.1 in /usr/local/lib/python3.6/dist-packages (from matplotlib; python_version >= \"3.6\"->livelossplot) (2.4.7)\n",
            "Requirement already satisfied: kiwisolver>=1.0.1 in /usr/local/lib/python3.6/dist-packages (from matplotlib; python_version >= \"3.6\"->livelossplot) (1.3.1)\n",
            "Requirement already satisfied: cycler>=0.10 in /usr/local/lib/python3.6/dist-packages (from matplotlib; python_version >= \"3.6\"->livelossplot) (0.10.0)\n",
            "Requirement already satisfied: pickleshare in /usr/local/lib/python3.6/dist-packages (from ipython->livelossplot) (0.7.5)\n",
            "Requirement already satisfied: traitlets>=4.2 in /usr/local/lib/python3.6/dist-packages (from ipython->livelossplot) (4.3.3)\n",
            "Requirement already satisfied: simplegeneric>0.8 in /usr/local/lib/python3.6/dist-packages (from ipython->livelossplot) (0.8.1)\n",
            "Requirement already satisfied: pexpect; sys_platform != \"win32\" in /usr/local/lib/python3.6/dist-packages (from ipython->livelossplot) (4.8.0)\n",
            "Requirement already satisfied: setuptools>=18.5 in /usr/local/lib/python3.6/dist-packages (from ipython->livelossplot) (51.1.2)\n",
            "Requirement already satisfied: prompt-toolkit<2.0.0,>=1.0.4 in /usr/local/lib/python3.6/dist-packages (from ipython->livelossplot) (1.0.18)\n",
            "Requirement already satisfied: pygments in /usr/local/lib/python3.6/dist-packages (from ipython->livelossplot) (2.6.1)\n",
            "Requirement already satisfied: decorator in /usr/local/lib/python3.6/dist-packages (from ipython->livelossplot) (4.4.2)\n",
            "Requirement already satisfied: PyYAML>=3.10 in /usr/local/lib/python3.6/dist-packages (from bokeh; python_version >= \"3.6\"->livelossplot) (3.13)\n",
            "Requirement already satisfied: packaging>=16.8 in /usr/local/lib/python3.6/dist-packages (from bokeh; python_version >= \"3.6\"->livelossplot) (20.8)\n",
            "Requirement already satisfied: tornado>=5.1 in /usr/local/lib/python3.6/dist-packages (from bokeh; python_version >= \"3.6\"->livelossplot) (5.1.1)\n",
            "Requirement already satisfied: typing-extensions>=3.7.4 in /usr/local/lib/python3.6/dist-packages (from bokeh; python_version >= \"3.6\"->livelossplot) (3.7.4.3)\n",
            "Requirement already satisfied: Jinja2>=2.7 in /usr/local/lib/python3.6/dist-packages (from bokeh; python_version >= \"3.6\"->livelossplot) (2.11.2)\n",
            "Requirement already satisfied: pillow>=4.0 in /usr/local/lib/python3.6/dist-packages (from bokeh; python_version >= \"3.6\"->livelossplot) (7.0.0)\n",
            "Requirement already satisfied: six>=1.5 in /usr/local/lib/python3.6/dist-packages (from python-dateutil>=2.1->matplotlib; python_version >= \"3.6\"->livelossplot) (1.15.0)\n",
            "Requirement already satisfied: ipython-genutils in /usr/local/lib/python3.6/dist-packages (from traitlets>=4.2->ipython->livelossplot) (0.2.0)\n",
            "Requirement already satisfied: ptyprocess>=0.5 in /usr/local/lib/python3.6/dist-packages (from pexpect; sys_platform != \"win32\"->ipython->livelossplot) (0.7.0)\n",
            "Requirement already satisfied: wcwidth in /usr/local/lib/python3.6/dist-packages (from prompt-toolkit<2.0.0,>=1.0.4->ipython->livelossplot) (0.2.5)\n",
            "Requirement already satisfied: MarkupSafe>=0.23 in /usr/local/lib/python3.6/dist-packages (from Jinja2>=2.7->bokeh; python_version >= \"3.6\"->livelossplot) (1.1.1)\n"
          ],
          "name": "stdout"
        }
      ]
    },
    {
      "cell_type": "code",
      "metadata": {
        "id": "4l0vapZzP5XS"
      },
      "source": [
        "import itertools\n",
        "from sklearn.metrics import confusion_matrix\n",
        "import matplotlib.pyplot as plt\n",
        "def plot_confusion_matrix(model, X_test, y_test, normalize=False, cmap=plt.cm.Blues):\n",
        "    \"\"\"\n",
        "    This function prints and plots the confusion matrix.\n",
        "    Normalization can be applied by setting `normalize=True`.\n",
        "    \"\"\"\n",
        "    y_predict = model.predict(X_test)\n",
        "    cm = confusion_matrix(y_test, y_predict)\n",
        "    if normalize:\n",
        "        cm = cm.astype('float') / cm.sum(axis=1)[:, np.newaxis]\n",
        "        title = 'Normalized confusion matrix'\n",
        "    else:\n",
        "        title = 'Confusion matrix, without normalization'\n",
        "    classes = np.arange(len(model.classes_))\n",
        "    plt.figure()\n",
        "    plt.imshow(cm, interpolation='nearest', cmap=cmap)\n",
        "    plt.title(title)\n",
        "    plt.colorbar()\n",
        "    tick_marks = np.arange(len(classes))\n",
        "    plt.xticks(tick_marks, classes, rotation=45)\n",
        "    plt.yticks(tick_marks, classes)\n",
        "    np.set_printoptions(precision=2)\n",
        "    fmt = '.2f' if normalize else 'd'\n",
        "    thresh = cm.max() / 2.\n",
        "    for i, j in itertools.product(range(cm.shape[0]), range(cm.shape[1])):\n",
        "        plt.text(j, i, format(cm[i, j], fmt),\n",
        "                 horizontalalignment=\"center\",\n",
        "                 color=\"white\" if cm[i, j] > thresh else \"black\")\n",
        "    plt.tight_layout()\n",
        "    plt.ylabel('True label')\n",
        "    plt.xlabel('Predicted label')\n",
        "    plt.show()"
      ],
      "execution_count": 3,
      "outputs": []
    },
    {
      "cell_type": "code",
      "metadata": {
        "id": "HihwwAQYQyjP"
      },
      "source": [
        "from sklearn.metrics import classification_report, plot_roc_curve, precision_recall_curve\n",
        "\n",
        "def print_roc(clf, X_test, y_test):\n",
        "    y_pred = clf.predict(X_test)\n",
        "    print(classification_report(y_test, y_pred))\n",
        "    plot_roc_curve(clf, X_test, y_test)\n",
        "    plt.plot([(0,0),(1,1)], '--y')\n",
        "    plt.title('ROC curve')\n",
        "    plt.xlabel('False positive rate')\n",
        "    plt.ylabel('True positive rate')\n",
        "    plt.show()"
      ],
      "execution_count": 4,
      "outputs": []
    },
    {
      "cell_type": "markdown",
      "metadata": {
        "id": "JI0FlesMNnx6"
      },
      "source": [
        "# Data cleaning"
      ]
    },
    {
      "cell_type": "code",
      "metadata": {
        "id": "W12B3p4lrCex"
      },
      "source": [
        "df = pd.read_csv('KaggleV2-May-2016.csv')"
      ],
      "execution_count": 5,
      "outputs": []
    },
    {
      "cell_type": "code",
      "metadata": {
        "colab": {
          "base_uri": "https://localhost:8080/"
        },
        "id": "0FA4pUh0LKg5",
        "outputId": "b6d1471b-8d10-455f-a3b7-615b83dc5ec0"
      },
      "source": [
        "df.columns"
      ],
      "execution_count": 6,
      "outputs": [
        {
          "output_type": "execute_result",
          "data": {
            "text/plain": [
              "Index(['PatientId', 'AppointmentID', 'Gender', 'ScheduledDay',\n",
              "       'AppointmentDay', 'Age', 'Neighbourhood', 'Scholarship', 'Hipertension',\n",
              "       'Diabetes', 'Alcoholism', 'Handcap', 'SMS_received', 'No-show'],\n",
              "      dtype='object')"
            ]
          },
          "metadata": {
            "tags": []
          },
          "execution_count": 6
        }
      ]
    },
    {
      "cell_type": "code",
      "metadata": {
        "colab": {
          "base_uri": "https://localhost:8080/"
        },
        "id": "zRK3v4yr40lw",
        "outputId": "6c951952-35dc-4484-db1f-cb6a89d1e844"
      },
      "source": [
        "print(\"The shape of the DataFrame is => {}\".format(df.shape))"
      ],
      "execution_count": 7,
      "outputs": [
        {
          "output_type": "stream",
          "text": [
            "The shape of the DataFrame is => (110527, 14)\n"
          ],
          "name": "stdout"
        }
      ]
    },
    {
      "cell_type": "code",
      "metadata": {
        "colab": {
          "base_uri": "https://localhost:8080/"
        },
        "id": "6msvfhiB4-Wb",
        "outputId": "06381012-f6bf-4dd8-a603-ee81856618d4"
      },
      "source": [
        "df.info()"
      ],
      "execution_count": 8,
      "outputs": [
        {
          "output_type": "stream",
          "text": [
            "<class 'pandas.core.frame.DataFrame'>\n",
            "RangeIndex: 110527 entries, 0 to 110526\n",
            "Data columns (total 14 columns):\n",
            " #   Column          Non-Null Count   Dtype  \n",
            "---  ------          --------------   -----  \n",
            " 0   PatientId       110527 non-null  float64\n",
            " 1   AppointmentID   110527 non-null  int64  \n",
            " 2   Gender          110527 non-null  object \n",
            " 3   ScheduledDay    110527 non-null  object \n",
            " 4   AppointmentDay  110527 non-null  object \n",
            " 5   Age             110527 non-null  int64  \n",
            " 6   Neighbourhood   110527 non-null  object \n",
            " 7   Scholarship     110527 non-null  int64  \n",
            " 8   Hipertension    110527 non-null  int64  \n",
            " 9   Diabetes        110527 non-null  int64  \n",
            " 10  Alcoholism      110527 non-null  int64  \n",
            " 11  Handcap         110527 non-null  int64  \n",
            " 12  SMS_received    110527 non-null  int64  \n",
            " 13  No-show         110527 non-null  object \n",
            "dtypes: float64(1), int64(8), object(5)\n",
            "memory usage: 11.8+ MB\n"
          ],
          "name": "stdout"
        }
      ]
    },
    {
      "cell_type": "code",
      "metadata": {
        "colab": {
          "base_uri": "https://localhost:8080/",
          "height": 306
        },
        "id": "AxMhuA0A5AWI",
        "outputId": "38f5469b-0257-4d4d-f5ec-572793dff662"
      },
      "source": [
        "df.head()"
      ],
      "execution_count": 9,
      "outputs": [
        {
          "output_type": "execute_result",
          "data": {
            "text/html": [
              "<div>\n",
              "<style scoped>\n",
              "    .dataframe tbody tr th:only-of-type {\n",
              "        vertical-align: middle;\n",
              "    }\n",
              "\n",
              "    .dataframe tbody tr th {\n",
              "        vertical-align: top;\n",
              "    }\n",
              "\n",
              "    .dataframe thead th {\n",
              "        text-align: right;\n",
              "    }\n",
              "</style>\n",
              "<table border=\"1\" class=\"dataframe\">\n",
              "  <thead>\n",
              "    <tr style=\"text-align: right;\">\n",
              "      <th></th>\n",
              "      <th>PatientId</th>\n",
              "      <th>AppointmentID</th>\n",
              "      <th>Gender</th>\n",
              "      <th>ScheduledDay</th>\n",
              "      <th>AppointmentDay</th>\n",
              "      <th>Age</th>\n",
              "      <th>Neighbourhood</th>\n",
              "      <th>Scholarship</th>\n",
              "      <th>Hipertension</th>\n",
              "      <th>Diabetes</th>\n",
              "      <th>Alcoholism</th>\n",
              "      <th>Handcap</th>\n",
              "      <th>SMS_received</th>\n",
              "      <th>No-show</th>\n",
              "    </tr>\n",
              "  </thead>\n",
              "  <tbody>\n",
              "    <tr>\n",
              "      <th>0</th>\n",
              "      <td>2.987250e+13</td>\n",
              "      <td>5642903</td>\n",
              "      <td>F</td>\n",
              "      <td>2016-04-29T18:38:08Z</td>\n",
              "      <td>2016-04-29T00:00:00Z</td>\n",
              "      <td>62</td>\n",
              "      <td>JARDIM DA PENHA</td>\n",
              "      <td>0</td>\n",
              "      <td>1</td>\n",
              "      <td>0</td>\n",
              "      <td>0</td>\n",
              "      <td>0</td>\n",
              "      <td>0</td>\n",
              "      <td>No</td>\n",
              "    </tr>\n",
              "    <tr>\n",
              "      <th>1</th>\n",
              "      <td>5.589978e+14</td>\n",
              "      <td>5642503</td>\n",
              "      <td>M</td>\n",
              "      <td>2016-04-29T16:08:27Z</td>\n",
              "      <td>2016-04-29T00:00:00Z</td>\n",
              "      <td>56</td>\n",
              "      <td>JARDIM DA PENHA</td>\n",
              "      <td>0</td>\n",
              "      <td>0</td>\n",
              "      <td>0</td>\n",
              "      <td>0</td>\n",
              "      <td>0</td>\n",
              "      <td>0</td>\n",
              "      <td>No</td>\n",
              "    </tr>\n",
              "    <tr>\n",
              "      <th>2</th>\n",
              "      <td>4.262962e+12</td>\n",
              "      <td>5642549</td>\n",
              "      <td>F</td>\n",
              "      <td>2016-04-29T16:19:04Z</td>\n",
              "      <td>2016-04-29T00:00:00Z</td>\n",
              "      <td>62</td>\n",
              "      <td>MATA DA PRAIA</td>\n",
              "      <td>0</td>\n",
              "      <td>0</td>\n",
              "      <td>0</td>\n",
              "      <td>0</td>\n",
              "      <td>0</td>\n",
              "      <td>0</td>\n",
              "      <td>No</td>\n",
              "    </tr>\n",
              "    <tr>\n",
              "      <th>3</th>\n",
              "      <td>8.679512e+11</td>\n",
              "      <td>5642828</td>\n",
              "      <td>F</td>\n",
              "      <td>2016-04-29T17:29:31Z</td>\n",
              "      <td>2016-04-29T00:00:00Z</td>\n",
              "      <td>8</td>\n",
              "      <td>PONTAL DE CAMBURI</td>\n",
              "      <td>0</td>\n",
              "      <td>0</td>\n",
              "      <td>0</td>\n",
              "      <td>0</td>\n",
              "      <td>0</td>\n",
              "      <td>0</td>\n",
              "      <td>No</td>\n",
              "    </tr>\n",
              "    <tr>\n",
              "      <th>4</th>\n",
              "      <td>8.841186e+12</td>\n",
              "      <td>5642494</td>\n",
              "      <td>F</td>\n",
              "      <td>2016-04-29T16:07:23Z</td>\n",
              "      <td>2016-04-29T00:00:00Z</td>\n",
              "      <td>56</td>\n",
              "      <td>JARDIM DA PENHA</td>\n",
              "      <td>0</td>\n",
              "      <td>1</td>\n",
              "      <td>1</td>\n",
              "      <td>0</td>\n",
              "      <td>0</td>\n",
              "      <td>0</td>\n",
              "      <td>No</td>\n",
              "    </tr>\n",
              "  </tbody>\n",
              "</table>\n",
              "</div>"
            ],
            "text/plain": [
              "      PatientId  AppointmentID Gender  ... Handcap SMS_received  No-show\n",
              "0  2.987250e+13        5642903      F  ...       0            0       No\n",
              "1  5.589978e+14        5642503      M  ...       0            0       No\n",
              "2  4.262962e+12        5642549      F  ...       0            0       No\n",
              "3  8.679512e+11        5642828      F  ...       0            0       No\n",
              "4  8.841186e+12        5642494      F  ...       0            0       No\n",
              "\n",
              "[5 rows x 14 columns]"
            ]
          },
          "metadata": {
            "tags": []
          },
          "execution_count": 9
        }
      ]
    },
    {
      "cell_type": "code",
      "metadata": {
        "id": "bIfvOWCb5DaA"
      },
      "source": [
        "# Convert PatientId from Float to Integer\n",
        "df['PatientId'] = df['PatientId'].astype('int64')\n",
        "\n",
        "# Convert ScheduledDay and AppointmentDay from 'object' type to 'datetime64[ns]'\n",
        "df['ScheduledDay'] = pd.to_datetime(df['ScheduledDay']).dt.date.astype('datetime64[ns]')\n",
        "df['AppointmentDay'] = pd.to_datetime(df['AppointmentDay']).dt.date.astype('datetime64[ns]')\n",
        "\n",
        "# Rename incorrect column names.\n",
        "df = df.rename(columns={'Hipertension': 'Hypertension', 'Handcap': 'Handicap', 'SMS_received': 'SMSReceived', 'No-show': 'NoShow'})"
      ],
      "execution_count": 10,
      "outputs": []
    },
    {
      "cell_type": "code",
      "metadata": {
        "colab": {
          "base_uri": "https://localhost:8080/"
        },
        "id": "frleb5x75JW3",
        "outputId": "375143dd-3a9f-44f4-a723-637776f72fb3"
      },
      "source": [
        "df.info()"
      ],
      "execution_count": 11,
      "outputs": [
        {
          "output_type": "stream",
          "text": [
            "<class 'pandas.core.frame.DataFrame'>\n",
            "RangeIndex: 110527 entries, 0 to 110526\n",
            "Data columns (total 14 columns):\n",
            " #   Column          Non-Null Count   Dtype         \n",
            "---  ------          --------------   -----         \n",
            " 0   PatientId       110527 non-null  int64         \n",
            " 1   AppointmentID   110527 non-null  int64         \n",
            " 2   Gender          110527 non-null  object        \n",
            " 3   ScheduledDay    110527 non-null  datetime64[ns]\n",
            " 4   AppointmentDay  110527 non-null  datetime64[ns]\n",
            " 5   Age             110527 non-null  int64         \n",
            " 6   Neighbourhood   110527 non-null  object        \n",
            " 7   Scholarship     110527 non-null  int64         \n",
            " 8   Hypertension    110527 non-null  int64         \n",
            " 9   Diabetes        110527 non-null  int64         \n",
            " 10  Alcoholism      110527 non-null  int64         \n",
            " 11  Handicap        110527 non-null  int64         \n",
            " 12  SMSReceived     110527 non-null  int64         \n",
            " 13  NoShow          110527 non-null  object        \n",
            "dtypes: datetime64[ns](2), int64(9), object(3)\n",
            "memory usage: 11.8+ MB\n"
          ],
          "name": "stdout"
        }
      ]
    },
    {
      "cell_type": "code",
      "metadata": {
        "colab": {
          "base_uri": "https://localhost:8080/",
          "height": 204
        },
        "id": "eJZT0p4E5MgU",
        "outputId": "7a95d6c6-9f32-4b5f-8d53-66b9661677da"
      },
      "source": [
        "df.head()"
      ],
      "execution_count": 12,
      "outputs": [
        {
          "output_type": "execute_result",
          "data": {
            "text/html": [
              "<div>\n",
              "<style scoped>\n",
              "    .dataframe tbody tr th:only-of-type {\n",
              "        vertical-align: middle;\n",
              "    }\n",
              "\n",
              "    .dataframe tbody tr th {\n",
              "        vertical-align: top;\n",
              "    }\n",
              "\n",
              "    .dataframe thead th {\n",
              "        text-align: right;\n",
              "    }\n",
              "</style>\n",
              "<table border=\"1\" class=\"dataframe\">\n",
              "  <thead>\n",
              "    <tr style=\"text-align: right;\">\n",
              "      <th></th>\n",
              "      <th>PatientId</th>\n",
              "      <th>AppointmentID</th>\n",
              "      <th>Gender</th>\n",
              "      <th>ScheduledDay</th>\n",
              "      <th>AppointmentDay</th>\n",
              "      <th>Age</th>\n",
              "      <th>Neighbourhood</th>\n",
              "      <th>Scholarship</th>\n",
              "      <th>Hypertension</th>\n",
              "      <th>Diabetes</th>\n",
              "      <th>Alcoholism</th>\n",
              "      <th>Handicap</th>\n",
              "      <th>SMSReceived</th>\n",
              "      <th>NoShow</th>\n",
              "    </tr>\n",
              "  </thead>\n",
              "  <tbody>\n",
              "    <tr>\n",
              "      <th>0</th>\n",
              "      <td>29872499824296</td>\n",
              "      <td>5642903</td>\n",
              "      <td>F</td>\n",
              "      <td>2016-04-29</td>\n",
              "      <td>2016-04-29</td>\n",
              "      <td>62</td>\n",
              "      <td>JARDIM DA PENHA</td>\n",
              "      <td>0</td>\n",
              "      <td>1</td>\n",
              "      <td>0</td>\n",
              "      <td>0</td>\n",
              "      <td>0</td>\n",
              "      <td>0</td>\n",
              "      <td>No</td>\n",
              "    </tr>\n",
              "    <tr>\n",
              "      <th>1</th>\n",
              "      <td>558997776694438</td>\n",
              "      <td>5642503</td>\n",
              "      <td>M</td>\n",
              "      <td>2016-04-29</td>\n",
              "      <td>2016-04-29</td>\n",
              "      <td>56</td>\n",
              "      <td>JARDIM DA PENHA</td>\n",
              "      <td>0</td>\n",
              "      <td>0</td>\n",
              "      <td>0</td>\n",
              "      <td>0</td>\n",
              "      <td>0</td>\n",
              "      <td>0</td>\n",
              "      <td>No</td>\n",
              "    </tr>\n",
              "    <tr>\n",
              "      <th>2</th>\n",
              "      <td>4262962299951</td>\n",
              "      <td>5642549</td>\n",
              "      <td>F</td>\n",
              "      <td>2016-04-29</td>\n",
              "      <td>2016-04-29</td>\n",
              "      <td>62</td>\n",
              "      <td>MATA DA PRAIA</td>\n",
              "      <td>0</td>\n",
              "      <td>0</td>\n",
              "      <td>0</td>\n",
              "      <td>0</td>\n",
              "      <td>0</td>\n",
              "      <td>0</td>\n",
              "      <td>No</td>\n",
              "    </tr>\n",
              "    <tr>\n",
              "      <th>3</th>\n",
              "      <td>867951213174</td>\n",
              "      <td>5642828</td>\n",
              "      <td>F</td>\n",
              "      <td>2016-04-29</td>\n",
              "      <td>2016-04-29</td>\n",
              "      <td>8</td>\n",
              "      <td>PONTAL DE CAMBURI</td>\n",
              "      <td>0</td>\n",
              "      <td>0</td>\n",
              "      <td>0</td>\n",
              "      <td>0</td>\n",
              "      <td>0</td>\n",
              "      <td>0</td>\n",
              "      <td>No</td>\n",
              "    </tr>\n",
              "    <tr>\n",
              "      <th>4</th>\n",
              "      <td>8841186448183</td>\n",
              "      <td>5642494</td>\n",
              "      <td>F</td>\n",
              "      <td>2016-04-29</td>\n",
              "      <td>2016-04-29</td>\n",
              "      <td>56</td>\n",
              "      <td>JARDIM DA PENHA</td>\n",
              "      <td>0</td>\n",
              "      <td>1</td>\n",
              "      <td>1</td>\n",
              "      <td>0</td>\n",
              "      <td>0</td>\n",
              "      <td>0</td>\n",
              "      <td>No</td>\n",
              "    </tr>\n",
              "  </tbody>\n",
              "</table>\n",
              "</div>"
            ],
            "text/plain": [
              "         PatientId  AppointmentID Gender  ... Handicap SMSReceived  NoShow\n",
              "0   29872499824296        5642903      F  ...        0           0      No\n",
              "1  558997776694438        5642503      M  ...        0           0      No\n",
              "2    4262962299951        5642549      F  ...        0           0      No\n",
              "3     867951213174        5642828      F  ...        0           0      No\n",
              "4    8841186448183        5642494      F  ...        0           0      No\n",
              "\n",
              "[5 rows x 14 columns]"
            ]
          },
          "metadata": {
            "tags": []
          },
          "execution_count": 12
        }
      ]
    },
    {
      "cell_type": "code",
      "metadata": {
        "colab": {
          "base_uri": "https://localhost:8080/"
        },
        "id": "icmQwEFm5PaA",
        "outputId": "0c164981-4f10-4abb-f8ce-67c43e9af192"
      },
      "source": [
        "print(f\"Features in the DataFrame => {df.columns.ravel()}\")"
      ],
      "execution_count": 13,
      "outputs": [
        {
          "output_type": "stream",
          "text": [
            "Features in the DataFrame => ['PatientId' 'AppointmentID' 'Gender' 'ScheduledDay' 'AppointmentDay'\n",
            " 'Age' 'Neighbourhood' 'Scholarship' 'Hypertension' 'Diabetes'\n",
            " 'Alcoholism' 'Handicap' 'SMSReceived' 'NoShow']\n"
          ],
          "name": "stdout"
        }
      ]
    },
    {
      "cell_type": "code",
      "metadata": {
        "id": "rbeXTKsz5a8w"
      },
      "source": [
        "# Drop 'PatientId' and 'AppointmentID' as they are just some system genrated numbers.\n",
        "df.drop(['PatientId', 'AppointmentID'], axis=1, inplace=True)"
      ],
      "execution_count": 14,
      "outputs": []
    },
    {
      "cell_type": "code",
      "metadata": {
        "colab": {
          "base_uri": "https://localhost:8080/"
        },
        "id": "u0ZQz1oJ5cr2",
        "outputId": "aac50361-d3e9-4948-ca8a-41c1c0ce95fe"
      },
      "source": [
        "print(\"Unique Values in `Gender` => {}\".format(df.Gender.unique()))\n",
        "print(\"Unique Values in `Scholarship` => {}\".format(df.Scholarship.unique()))\n",
        "print(\"Unique Values in `Hypertension` => {}\".format(df.Hypertension.unique()))\n",
        "print(\"Unique Values in `Diabetes` => {}\".format(df.Diabetes.unique()))\n",
        "print(\"Unique Values in `Alcoholism` => {}\".format(df.Alcoholism.unique()))\n",
        "print(\"Unique Values in `Handicap` => {}\".format(df.Handicap.unique()))\n",
        "print(\"Unique Values in `SMSReceived` => {}\".format(df.SMSReceived.unique()))"
      ],
      "execution_count": 15,
      "outputs": [
        {
          "output_type": "stream",
          "text": [
            "Unique Values in `Gender` => ['F' 'M']\n",
            "Unique Values in `Scholarship` => [0 1]\n",
            "Unique Values in `Hypertension` => [1 0]\n",
            "Unique Values in `Diabetes` => [0 1]\n",
            "Unique Values in `Alcoholism` => [0 1]\n",
            "Unique Values in `Handicap` => [0 1 2 3 4]\n",
            "Unique Values in `SMSReceived` => [0 1]\n"
          ],
          "name": "stdout"
        }
      ]
    },
    {
      "cell_type": "code",
      "metadata": {
        "id": "GcG25zcc5fMR"
      },
      "source": [
        "df['Scholarship'] = df['Scholarship'].astype('object')\n",
        "df['Hypertension'] = df['Hypertension'].astype('object')\n",
        "df['Diabetes'] = df['Diabetes'].astype('object')\n",
        "df['Alcoholism'] = df['Alcoholism'].astype('object')\n",
        "df['Handicap'] = df['Handicap'].astype('object')\n",
        "df['SMSReceived'] = df['SMSReceived'].astype('object')"
      ],
      "execution_count": 16,
      "outputs": []
    },
    {
      "cell_type": "code",
      "metadata": {
        "colab": {
          "base_uri": "https://localhost:8080/"
        },
        "id": "DALMYf205nze",
        "outputId": "15f09aa5-dee4-4738-da96-6a032d706625"
      },
      "source": [
        "df.info()"
      ],
      "execution_count": 17,
      "outputs": [
        {
          "output_type": "stream",
          "text": [
            "<class 'pandas.core.frame.DataFrame'>\n",
            "RangeIndex: 110527 entries, 0 to 110526\n",
            "Data columns (total 12 columns):\n",
            " #   Column          Non-Null Count   Dtype         \n",
            "---  ------          --------------   -----         \n",
            " 0   Gender          110527 non-null  object        \n",
            " 1   ScheduledDay    110527 non-null  datetime64[ns]\n",
            " 2   AppointmentDay  110527 non-null  datetime64[ns]\n",
            " 3   Age             110527 non-null  int64         \n",
            " 4   Neighbourhood   110527 non-null  object        \n",
            " 5   Scholarship     110527 non-null  object        \n",
            " 6   Hypertension    110527 non-null  object        \n",
            " 7   Diabetes        110527 non-null  object        \n",
            " 8   Alcoholism      110527 non-null  object        \n",
            " 9   Handicap        110527 non-null  object        \n",
            " 10  SMSReceived     110527 non-null  object        \n",
            " 11  NoShow          110527 non-null  object        \n",
            "dtypes: datetime64[ns](2), int64(1), object(9)\n",
            "memory usage: 10.1+ MB\n"
          ],
          "name": "stdout"
        }
      ]
    },
    {
      "cell_type": "code",
      "metadata": {
        "colab": {
          "base_uri": "https://localhost:8080/",
          "height": 204
        },
        "id": "XzjlG40r5qFu",
        "outputId": "9dcfda1d-b82d-4298-d71e-ad88a951e182"
      },
      "source": [
        "df.sample(n=5)"
      ],
      "execution_count": 18,
      "outputs": [
        {
          "output_type": "execute_result",
          "data": {
            "text/html": [
              "<div>\n",
              "<style scoped>\n",
              "    .dataframe tbody tr th:only-of-type {\n",
              "        vertical-align: middle;\n",
              "    }\n",
              "\n",
              "    .dataframe tbody tr th {\n",
              "        vertical-align: top;\n",
              "    }\n",
              "\n",
              "    .dataframe thead th {\n",
              "        text-align: right;\n",
              "    }\n",
              "</style>\n",
              "<table border=\"1\" class=\"dataframe\">\n",
              "  <thead>\n",
              "    <tr style=\"text-align: right;\">\n",
              "      <th></th>\n",
              "      <th>Gender</th>\n",
              "      <th>ScheduledDay</th>\n",
              "      <th>AppointmentDay</th>\n",
              "      <th>Age</th>\n",
              "      <th>Neighbourhood</th>\n",
              "      <th>Scholarship</th>\n",
              "      <th>Hypertension</th>\n",
              "      <th>Diabetes</th>\n",
              "      <th>Alcoholism</th>\n",
              "      <th>Handicap</th>\n",
              "      <th>SMSReceived</th>\n",
              "      <th>NoShow</th>\n",
              "    </tr>\n",
              "  </thead>\n",
              "  <tbody>\n",
              "    <tr>\n",
              "      <th>55573</th>\n",
              "      <td>F</td>\n",
              "      <td>2016-05-06</td>\n",
              "      <td>2016-05-06</td>\n",
              "      <td>55</td>\n",
              "      <td>DA PENHA</td>\n",
              "      <td>0</td>\n",
              "      <td>1</td>\n",
              "      <td>0</td>\n",
              "      <td>0</td>\n",
              "      <td>0</td>\n",
              "      <td>0</td>\n",
              "      <td>No</td>\n",
              "    </tr>\n",
              "    <tr>\n",
              "      <th>87345</th>\n",
              "      <td>F</td>\n",
              "      <td>2016-06-06</td>\n",
              "      <td>2016-06-08</td>\n",
              "      <td>55</td>\n",
              "      <td>PARQUE MOSCOSO</td>\n",
              "      <td>0</td>\n",
              "      <td>0</td>\n",
              "      <td>0</td>\n",
              "      <td>0</td>\n",
              "      <td>0</td>\n",
              "      <td>0</td>\n",
              "      <td>Yes</td>\n",
              "    </tr>\n",
              "    <tr>\n",
              "      <th>75948</th>\n",
              "      <td>M</td>\n",
              "      <td>2016-04-29</td>\n",
              "      <td>2016-05-05</td>\n",
              "      <td>57</td>\n",
              "      <td>SÃO PEDRO</td>\n",
              "      <td>0</td>\n",
              "      <td>0</td>\n",
              "      <td>0</td>\n",
              "      <td>0</td>\n",
              "      <td>0</td>\n",
              "      <td>1</td>\n",
              "      <td>No</td>\n",
              "    </tr>\n",
              "    <tr>\n",
              "      <th>3741</th>\n",
              "      <td>M</td>\n",
              "      <td>2016-03-31</td>\n",
              "      <td>2016-05-20</td>\n",
              "      <td>6</td>\n",
              "      <td>RESISTÊNCIA</td>\n",
              "      <td>0</td>\n",
              "      <td>0</td>\n",
              "      <td>0</td>\n",
              "      <td>0</td>\n",
              "      <td>0</td>\n",
              "      <td>0</td>\n",
              "      <td>No</td>\n",
              "    </tr>\n",
              "    <tr>\n",
              "      <th>24997</th>\n",
              "      <td>M</td>\n",
              "      <td>2016-05-19</td>\n",
              "      <td>2016-05-19</td>\n",
              "      <td>44</td>\n",
              "      <td>ANDORINHAS</td>\n",
              "      <td>0</td>\n",
              "      <td>0</td>\n",
              "      <td>0</td>\n",
              "      <td>0</td>\n",
              "      <td>0</td>\n",
              "      <td>0</td>\n",
              "      <td>No</td>\n",
              "    </tr>\n",
              "  </tbody>\n",
              "</table>\n",
              "</div>"
            ],
            "text/plain": [
              "      Gender ScheduledDay AppointmentDay  ...  Handicap SMSReceived NoShow\n",
              "55573      F   2016-05-06     2016-05-06  ...         0           0     No\n",
              "87345      F   2016-06-06     2016-06-08  ...         0           0    Yes\n",
              "75948      M   2016-04-29     2016-05-05  ...         0           1     No\n",
              "3741       M   2016-03-31     2016-05-20  ...         0           0     No\n",
              "24997      M   2016-05-19     2016-05-19  ...         0           0     No\n",
              "\n",
              "[5 rows x 12 columns]"
            ]
          },
          "metadata": {
            "tags": []
          },
          "execution_count": 18
        }
      ]
    },
    {
      "cell_type": "code",
      "metadata": {
        "colab": {
          "base_uri": "https://localhost:8080/"
        },
        "id": "Hl8Lu4YR5s4t",
        "outputId": "315149dd-67c2-4cbe-f1d5-8d0ca83e1754"
      },
      "source": [
        "print(\"Unique Values in `Age` => {}\".format(np.sort(df.Age.unique())))"
      ],
      "execution_count": 19,
      "outputs": [
        {
          "output_type": "stream",
          "text": [
            "Unique Values in `Age` => [ -1   0   1   2   3   4   5   6   7   8   9  10  11  12  13  14  15  16\n",
            "  17  18  19  20  21  22  23  24  25  26  27  28  29  30  31  32  33  34\n",
            "  35  36  37  38  39  40  41  42  43  44  45  46  47  48  49  50  51  52\n",
            "  53  54  55  56  57  58  59  60  61  62  63  64  65  66  67  68  69  70\n",
            "  71  72  73  74  75  76  77  78  79  80  81  82  83  84  85  86  87  88\n",
            "  89  90  91  92  93  94  95  96  97  98  99 100 102 115]\n"
          ],
          "name": "stdout"
        }
      ]
    },
    {
      "cell_type": "code",
      "metadata": {
        "colab": {
          "base_uri": "https://localhost:8080/"
        },
        "id": "Lgnm75ge5xwj",
        "outputId": "7af7091a-7e3d-4c84-b109-3290735e24a1"
      },
      "source": [
        "print(\"Patients with `Age` less than -1 -> {}\".format(df[df.Age == -1].shape[0]))\n",
        "print(\"Patients with `Age` equal to 0 -> {}\".format(df[df.Age == 0].shape[0]))"
      ],
      "execution_count": 20,
      "outputs": [
        {
          "output_type": "stream",
          "text": [
            "Patients with `Age` less than -1 -> 1\n",
            "Patients with `Age` equal to 0 -> 3539\n"
          ],
          "name": "stdout"
        }
      ]
    },
    {
      "cell_type": "markdown",
      "metadata": {
        "id": "OeZmD0Em6LpH"
      },
      "source": [
        "As there is only 1 patient with Age less than 0 we will delete that record assuming that they was a typo."
      ]
    },
    {
      "cell_type": "code",
      "metadata": {
        "id": "bAD-dk9t50NK"
      },
      "source": [
        "df = df[df.Age >= 0]"
      ],
      "execution_count": 21,
      "outputs": []
    },
    {
      "cell_type": "markdown",
      "metadata": {
        "id": "aOhjhBYO6EhU"
      },
      "source": [
        "As we have 3539 patients with Age equal to 0 we are assuming that these are the small babies with few months of Age. Usually as babies doesn't have Hypertension or Diabetes or Alcoholism we will check these features for the above records to see if our assumption is correct."
      ]
    },
    {
      "cell_type": "code",
      "metadata": {
        "colab": {
          "base_uri": "https://localhost:8080/",
          "height": 49
        },
        "id": "ULY-M-iu529F",
        "outputId": "5d0c06b5-3a53-4ba8-ab50-47a68eb85159"
      },
      "source": [
        "df[(df.Age <= 0) & ((df.Hypertension.astype(int) == 1) | (df.Diabetes.astype(int) == 1) | (df.Alcoholism.astype(int) == 1))]"
      ],
      "execution_count": 22,
      "outputs": [
        {
          "output_type": "execute_result",
          "data": {
            "text/html": [
              "<div>\n",
              "<style scoped>\n",
              "    .dataframe tbody tr th:only-of-type {\n",
              "        vertical-align: middle;\n",
              "    }\n",
              "\n",
              "    .dataframe tbody tr th {\n",
              "        vertical-align: top;\n",
              "    }\n",
              "\n",
              "    .dataframe thead th {\n",
              "        text-align: right;\n",
              "    }\n",
              "</style>\n",
              "<table border=\"1\" class=\"dataframe\">\n",
              "  <thead>\n",
              "    <tr style=\"text-align: right;\">\n",
              "      <th></th>\n",
              "      <th>Gender</th>\n",
              "      <th>ScheduledDay</th>\n",
              "      <th>AppointmentDay</th>\n",
              "      <th>Age</th>\n",
              "      <th>Neighbourhood</th>\n",
              "      <th>Scholarship</th>\n",
              "      <th>Hypertension</th>\n",
              "      <th>Diabetes</th>\n",
              "      <th>Alcoholism</th>\n",
              "      <th>Handicap</th>\n",
              "      <th>SMSReceived</th>\n",
              "      <th>NoShow</th>\n",
              "    </tr>\n",
              "  </thead>\n",
              "  <tbody>\n",
              "  </tbody>\n",
              "</table>\n",
              "</div>"
            ],
            "text/plain": [
              "Empty DataFrame\n",
              "Columns: [Gender, ScheduledDay, AppointmentDay, Age, Neighbourhood, Scholarship, Hypertension, Diabetes, Alcoholism, Handicap, SMSReceived, NoShow]\n",
              "Index: []"
            ]
          },
          "metadata": {
            "tags": []
          },
          "execution_count": 22
        }
      ]
    },
    {
      "cell_type": "markdown",
      "metadata": {
        "id": "9hvz-q6R6HYU"
      },
      "source": [
        "As we have no records above, we will confirm our conclusion that Age value of 0 indeed represents babies who are just few months old."
      ]
    },
    {
      "cell_type": "code",
      "metadata": {
        "colab": {
          "base_uri": "https://localhost:8080/"
        },
        "id": "rfLv-og-6Ppm",
        "outputId": "257ea3f9-c38b-4f58-d0ed-262185c89bb1"
      },
      "source": [
        "# Print Unique Values for 'ScheduledDay'\n",
        "print(\"Unique Values in `ScheduledDay` => {}\".format(np.sort(df.ScheduledDay.dt.strftime('%Y-%m-%d').unique())))"
      ],
      "execution_count": 23,
      "outputs": [
        {
          "output_type": "stream",
          "text": [
            "Unique Values in `ScheduledDay` => ['2015-11-10' '2015-12-03' '2015-12-07' '2015-12-08' '2015-12-14'\n",
            " '2015-12-15' '2016-01-04' '2016-01-05' '2016-01-07' '2016-01-11'\n",
            " '2016-01-13' '2016-01-14' '2016-01-19' '2016-01-20' '2016-01-21'\n",
            " '2016-01-22' '2016-01-25' '2016-01-26' '2016-01-27' '2016-01-28'\n",
            " '2016-01-29' '2016-02-01' '2016-02-02' '2016-02-03' '2016-02-04'\n",
            " '2016-02-05' '2016-02-11' '2016-02-12' '2016-02-15' '2016-02-16'\n",
            " '2016-02-17' '2016-02-18' '2016-02-19' '2016-02-22' '2016-02-23'\n",
            " '2016-02-24' '2016-02-25' '2016-02-26' '2016-02-29' '2016-03-01'\n",
            " '2016-03-02' '2016-03-03' '2016-03-04' '2016-03-05' '2016-03-07'\n",
            " '2016-03-08' '2016-03-09' '2016-03-10' '2016-03-11' '2016-03-14'\n",
            " '2016-03-15' '2016-03-16' '2016-03-17' '2016-03-18' '2016-03-19'\n",
            " '2016-03-21' '2016-03-22' '2016-03-23' '2016-03-28' '2016-03-29'\n",
            " '2016-03-30' '2016-03-31' '2016-04-01' '2016-04-05' '2016-04-06'\n",
            " '2016-04-07' '2016-04-08' '2016-04-09' '2016-04-11' '2016-04-12'\n",
            " '2016-04-13' '2016-04-14' '2016-04-15' '2016-04-16' '2016-04-18'\n",
            " '2016-04-19' '2016-04-20' '2016-04-25' '2016-04-26' '2016-04-27'\n",
            " '2016-04-28' '2016-04-29' '2016-04-30' '2016-05-02' '2016-05-03'\n",
            " '2016-05-04' '2016-05-05' '2016-05-06' '2016-05-07' '2016-05-09'\n",
            " '2016-05-10' '2016-05-11' '2016-05-12' '2016-05-13' '2016-05-14'\n",
            " '2016-05-16' '2016-05-17' '2016-05-18' '2016-05-19' '2016-05-20'\n",
            " '2016-05-24' '2016-05-25' '2016-05-30' '2016-05-31' '2016-06-01'\n",
            " '2016-06-02' '2016-06-03' '2016-06-04' '2016-06-06' '2016-06-07'\n",
            " '2016-06-08']\n"
          ],
          "name": "stdout"
        }
      ]
    },
    {
      "cell_type": "code",
      "metadata": {
        "colab": {
          "base_uri": "https://localhost:8080/"
        },
        "id": "NdTiMiO96V1v",
        "outputId": "5b67043e-0e50-432a-d141-a56d3c956997"
      },
      "source": [
        "# Print Unique Values for 'AppointmentDay'\n",
        "print(\"Unique Values in `AppointmentDay` => {}\".format(np.sort(df.AppointmentDay.dt.strftime('%Y-%m-%d').unique())))"
      ],
      "execution_count": 24,
      "outputs": [
        {
          "output_type": "stream",
          "text": [
            "Unique Values in `AppointmentDay` => ['2016-04-29' '2016-05-02' '2016-05-03' '2016-05-04' '2016-05-05'\n",
            " '2016-05-06' '2016-05-09' '2016-05-10' '2016-05-11' '2016-05-12'\n",
            " '2016-05-13' '2016-05-14' '2016-05-16' '2016-05-17' '2016-05-18'\n",
            " '2016-05-19' '2016-05-20' '2016-05-24' '2016-05-25' '2016-05-30'\n",
            " '2016-05-31' '2016-06-01' '2016-06-02' '2016-06-03' '2016-06-06'\n",
            " '2016-06-07' '2016-06-08']\n"
          ],
          "name": "stdout"
        }
      ]
    },
    {
      "cell_type": "code",
      "metadata": {
        "colab": {
          "base_uri": "https://localhost:8080/"
        },
        "id": "HyT3YkPS6lUW",
        "outputId": "a33c9d74-7092-4807-ce25-9bcc031aeadc"
      },
      "source": [
        "# Print Unique Values for 'Neighbourhood'\n",
        "print(\"Unique Values in `Neighbourhood` => {}\".format(np.sort(df.Neighbourhood.unique())))"
      ],
      "execution_count": 25,
      "outputs": [
        {
          "output_type": "stream",
          "text": [
            "Unique Values in `Neighbourhood` => ['AEROPORTO' 'ANDORINHAS' 'ANTÔNIO HONÓRIO' 'ARIOVALDO FAVALESSA'\n",
            " 'BARRO VERMELHO' 'BELA VISTA' 'BENTO FERREIRA' 'BOA VISTA' 'BONFIM'\n",
            " 'CARATOÍRA' 'CENTRO' 'COMDUSA' 'CONQUISTA' 'CONSOLAÇÃO' 'CRUZAMENTO'\n",
            " 'DA PENHA' 'DE LOURDES' 'DO CABRAL' 'DO MOSCOSO' 'DO QUADRO'\n",
            " 'ENSEADA DO SUÁ' 'ESTRELINHA' 'FONTE GRANDE' 'FORTE SÃO JOÃO' 'FRADINHOS'\n",
            " 'GOIABEIRAS' 'GRANDE VITÓRIA' 'GURIGICA' 'HORTO' 'ILHA DAS CAIEIRAS'\n",
            " 'ILHA DE SANTA MARIA' 'ILHA DO BOI' 'ILHA DO FRADE' 'ILHA DO PRÍNCIPE'\n",
            " 'ILHAS OCEÂNICAS DE TRINDADE' 'INHANGUETÁ' 'ITARARÉ' 'JABOUR'\n",
            " 'JARDIM CAMBURI' 'JARDIM DA PENHA' 'JESUS DE NAZARETH' 'JOANA D´ARC'\n",
            " 'JUCUTUQUARA' 'MARIA ORTIZ' 'MARUÍPE' 'MATA DA PRAIA' 'MONTE BELO'\n",
            " 'MORADA DE CAMBURI' 'MÁRIO CYPRESTE' 'NAZARETH' 'NOVA PALESTINA'\n",
            " 'PARQUE INDUSTRIAL' 'PARQUE MOSCOSO' 'PIEDADE' 'PONTAL DE CAMBURI'\n",
            " 'PRAIA DO CANTO' 'PRAIA DO SUÁ' 'REDENÇÃO' 'REPÚBLICA' 'RESISTÊNCIA'\n",
            " 'ROMÃO' 'SANTA CECÍLIA' 'SANTA CLARA' 'SANTA HELENA' 'SANTA LUÍZA'\n",
            " 'SANTA LÚCIA' 'SANTA MARTHA' 'SANTA TEREZA' 'SANTO ANDRÉ' 'SANTO ANTÔNIO'\n",
            " 'SANTOS DUMONT' 'SANTOS REIS' 'SEGURANÇA DO LAR' 'SOLON BORGES'\n",
            " 'SÃO BENEDITO' 'SÃO CRISTÓVÃO' 'SÃO JOSÉ' 'SÃO PEDRO' 'TABUAZEIRO'\n",
            " 'UNIVERSITÁRIO' 'VILA RUBIM']\n"
          ],
          "name": "stdout"
        }
      ]
    },
    {
      "cell_type": "code",
      "metadata": {
        "colab": {
          "base_uri": "https://localhost:8080/"
        },
        "id": "PKzXcKdf6rq1",
        "outputId": "28ce4fff-61b8-4840-beef-a402a7480d46"
      },
      "source": [
        "print(\"Total Count for `Neighbourhood` => {}\".format(df.Neighbourhood.unique().size))"
      ],
      "execution_count": 26,
      "outputs": [
        {
          "output_type": "stream",
          "text": [
            "Total Count for `Neighbourhood` => 81\n"
          ],
          "name": "stdout"
        }
      ]
    },
    {
      "cell_type": "code",
      "metadata": {
        "id": "FQDQI9Uc6zs0"
      },
      "source": [
        "df['ScheduledDay_DOW'] = df['ScheduledDay'].dt.weekday.apply(lambda day: calendar.day_name[day])\n",
        "df['AppointmentDay_DOW'] = df['AppointmentDay'].dt.weekday.apply(lambda day: calendar.day_name[day])"
      ],
      "execution_count": 27,
      "outputs": []
    },
    {
      "cell_type": "code",
      "metadata": {
        "id": "dgaBBeQ195-N"
      },
      "source": [
        "df['AppointmentDay'] = np.where((df['AppointmentDay'] - df['ScheduledDay']).\\\n",
        "                                dt.days < 0, df['ScheduledDay'], df['AppointmentDay'])"
      ],
      "execution_count": 28,
      "outputs": []
    },
    {
      "cell_type": "code",
      "metadata": {
        "id": "L-efMaRP-EUU"
      },
      "source": [
        "df['Waiting_Time_days'] = df['AppointmentDay'] - df['ScheduledDay']\n",
        "df['Waiting_Time_days'] = df['Waiting_Time_days'].dt.days"
      ],
      "execution_count": 29,
      "outputs": []
    },
    {
      "cell_type": "code",
      "metadata": {
        "colab": {
          "base_uri": "https://localhost:8080/"
        },
        "id": "ObxityJT-HS4",
        "outputId": "c473deab-b8f1-477d-bc5e-940eec551cb7"
      },
      "source": [
        "print(\"There are [{}] records where the Waiting Time is less than Zero.\".\\\n",
        "      format(df[df.Waiting_Time_days < 0].shape[0]))"
      ],
      "execution_count": 30,
      "outputs": [
        {
          "output_type": "stream",
          "text": [
            "There are [0] records where the Waiting Time is less than Zero.\n"
          ],
          "name": "stdout"
        }
      ]
    },
    {
      "cell_type": "code",
      "metadata": {
        "colab": {
          "base_uri": "https://localhost:8080/"
        },
        "id": "buo9pxhm-NnR",
        "outputId": "be7817c0-096d-45f6-b9e3-b095cd15553e"
      },
      "source": [
        "df.info()"
      ],
      "execution_count": 31,
      "outputs": [
        {
          "output_type": "stream",
          "text": [
            "<class 'pandas.core.frame.DataFrame'>\n",
            "Int64Index: 110526 entries, 0 to 110526\n",
            "Data columns (total 15 columns):\n",
            " #   Column              Non-Null Count   Dtype         \n",
            "---  ------              --------------   -----         \n",
            " 0   Gender              110526 non-null  object        \n",
            " 1   ScheduledDay        110526 non-null  datetime64[ns]\n",
            " 2   AppointmentDay      110526 non-null  datetime64[ns]\n",
            " 3   Age                 110526 non-null  int64         \n",
            " 4   Neighbourhood       110526 non-null  object        \n",
            " 5   Scholarship         110526 non-null  object        \n",
            " 6   Hypertension        110526 non-null  object        \n",
            " 7   Diabetes            110526 non-null  object        \n",
            " 8   Alcoholism          110526 non-null  object        \n",
            " 9   Handicap            110526 non-null  object        \n",
            " 10  SMSReceived         110526 non-null  object        \n",
            " 11  NoShow              110526 non-null  object        \n",
            " 12  ScheduledDay_DOW    110526 non-null  object        \n",
            " 13  AppointmentDay_DOW  110526 non-null  object        \n",
            " 14  Waiting_Time_days   110526 non-null  int64         \n",
            "dtypes: datetime64[ns](2), int64(2), object(11)\n",
            "memory usage: 13.5+ MB\n"
          ],
          "name": "stdout"
        }
      ]
    },
    {
      "cell_type": "code",
      "metadata": {
        "colab": {
          "base_uri": "https://localhost:8080/",
          "height": 413
        },
        "id": "Hngo90f7-Qpz",
        "outputId": "a4f9bc64-5c12-4865-e7e2-465ea77f43ef"
      },
      "source": [
        "df.sample(n=10)"
      ],
      "execution_count": 32,
      "outputs": [
        {
          "output_type": "execute_result",
          "data": {
            "text/html": [
              "<div>\n",
              "<style scoped>\n",
              "    .dataframe tbody tr th:only-of-type {\n",
              "        vertical-align: middle;\n",
              "    }\n",
              "\n",
              "    .dataframe tbody tr th {\n",
              "        vertical-align: top;\n",
              "    }\n",
              "\n",
              "    .dataframe thead th {\n",
              "        text-align: right;\n",
              "    }\n",
              "</style>\n",
              "<table border=\"1\" class=\"dataframe\">\n",
              "  <thead>\n",
              "    <tr style=\"text-align: right;\">\n",
              "      <th></th>\n",
              "      <th>Gender</th>\n",
              "      <th>ScheduledDay</th>\n",
              "      <th>AppointmentDay</th>\n",
              "      <th>Age</th>\n",
              "      <th>Neighbourhood</th>\n",
              "      <th>Scholarship</th>\n",
              "      <th>Hypertension</th>\n",
              "      <th>Diabetes</th>\n",
              "      <th>Alcoholism</th>\n",
              "      <th>Handicap</th>\n",
              "      <th>SMSReceived</th>\n",
              "      <th>NoShow</th>\n",
              "      <th>ScheduledDay_DOW</th>\n",
              "      <th>AppointmentDay_DOW</th>\n",
              "      <th>Waiting_Time_days</th>\n",
              "    </tr>\n",
              "  </thead>\n",
              "  <tbody>\n",
              "    <tr>\n",
              "      <th>50869</th>\n",
              "      <td>M</td>\n",
              "      <td>2016-05-06</td>\n",
              "      <td>2016-05-10</td>\n",
              "      <td>40</td>\n",
              "      <td>ILHA DAS CAIEIRAS</td>\n",
              "      <td>0</td>\n",
              "      <td>0</td>\n",
              "      <td>0</td>\n",
              "      <td>0</td>\n",
              "      <td>0</td>\n",
              "      <td>1</td>\n",
              "      <td>No</td>\n",
              "      <td>Friday</td>\n",
              "      <td>Tuesday</td>\n",
              "      <td>4</td>\n",
              "    </tr>\n",
              "    <tr>\n",
              "      <th>10542</th>\n",
              "      <td>F</td>\n",
              "      <td>2016-03-29</td>\n",
              "      <td>2016-05-17</td>\n",
              "      <td>34</td>\n",
              "      <td>CRUZAMENTO</td>\n",
              "      <td>0</td>\n",
              "      <td>1</td>\n",
              "      <td>1</td>\n",
              "      <td>0</td>\n",
              "      <td>0</td>\n",
              "      <td>0</td>\n",
              "      <td>No</td>\n",
              "      <td>Tuesday</td>\n",
              "      <td>Tuesday</td>\n",
              "      <td>49</td>\n",
              "    </tr>\n",
              "    <tr>\n",
              "      <th>91285</th>\n",
              "      <td>M</td>\n",
              "      <td>2016-06-06</td>\n",
              "      <td>2016-06-06</td>\n",
              "      <td>23</td>\n",
              "      <td>CRUZAMENTO</td>\n",
              "      <td>0</td>\n",
              "      <td>0</td>\n",
              "      <td>0</td>\n",
              "      <td>0</td>\n",
              "      <td>0</td>\n",
              "      <td>0</td>\n",
              "      <td>No</td>\n",
              "      <td>Monday</td>\n",
              "      <td>Monday</td>\n",
              "      <td>0</td>\n",
              "    </tr>\n",
              "    <tr>\n",
              "      <th>47150</th>\n",
              "      <td>M</td>\n",
              "      <td>2016-05-13</td>\n",
              "      <td>2016-05-17</td>\n",
              "      <td>59</td>\n",
              "      <td>ROMÃO</td>\n",
              "      <td>0</td>\n",
              "      <td>0</td>\n",
              "      <td>0</td>\n",
              "      <td>0</td>\n",
              "      <td>0</td>\n",
              "      <td>0</td>\n",
              "      <td>No</td>\n",
              "      <td>Friday</td>\n",
              "      <td>Tuesday</td>\n",
              "      <td>4</td>\n",
              "    </tr>\n",
              "    <tr>\n",
              "      <th>84044</th>\n",
              "      <td>F</td>\n",
              "      <td>2016-05-16</td>\n",
              "      <td>2016-05-16</td>\n",
              "      <td>18</td>\n",
              "      <td>TABUAZEIRO</td>\n",
              "      <td>1</td>\n",
              "      <td>0</td>\n",
              "      <td>0</td>\n",
              "      <td>0</td>\n",
              "      <td>0</td>\n",
              "      <td>0</td>\n",
              "      <td>No</td>\n",
              "      <td>Monday</td>\n",
              "      <td>Monday</td>\n",
              "      <td>0</td>\n",
              "    </tr>\n",
              "    <tr>\n",
              "      <th>47010</th>\n",
              "      <td>M</td>\n",
              "      <td>2016-05-09</td>\n",
              "      <td>2016-05-09</td>\n",
              "      <td>31</td>\n",
              "      <td>CENTRO</td>\n",
              "      <td>0</td>\n",
              "      <td>0</td>\n",
              "      <td>0</td>\n",
              "      <td>0</td>\n",
              "      <td>0</td>\n",
              "      <td>0</td>\n",
              "      <td>No</td>\n",
              "      <td>Monday</td>\n",
              "      <td>Monday</td>\n",
              "      <td>0</td>\n",
              "    </tr>\n",
              "    <tr>\n",
              "      <th>81600</th>\n",
              "      <td>F</td>\n",
              "      <td>2016-04-20</td>\n",
              "      <td>2016-05-04</td>\n",
              "      <td>26</td>\n",
              "      <td>BONFIM</td>\n",
              "      <td>0</td>\n",
              "      <td>0</td>\n",
              "      <td>0</td>\n",
              "      <td>0</td>\n",
              "      <td>0</td>\n",
              "      <td>1</td>\n",
              "      <td>No</td>\n",
              "      <td>Wednesday</td>\n",
              "      <td>Wednesday</td>\n",
              "      <td>14</td>\n",
              "    </tr>\n",
              "    <tr>\n",
              "      <th>93429</th>\n",
              "      <td>M</td>\n",
              "      <td>2016-06-01</td>\n",
              "      <td>2016-06-01</td>\n",
              "      <td>56</td>\n",
              "      <td>REDENÇÃO</td>\n",
              "      <td>1</td>\n",
              "      <td>0</td>\n",
              "      <td>0</td>\n",
              "      <td>0</td>\n",
              "      <td>0</td>\n",
              "      <td>0</td>\n",
              "      <td>No</td>\n",
              "      <td>Wednesday</td>\n",
              "      <td>Wednesday</td>\n",
              "      <td>0</td>\n",
              "    </tr>\n",
              "    <tr>\n",
              "      <th>72041</th>\n",
              "      <td>F</td>\n",
              "      <td>2016-05-12</td>\n",
              "      <td>2016-05-18</td>\n",
              "      <td>39</td>\n",
              "      <td>MARIA ORTIZ</td>\n",
              "      <td>0</td>\n",
              "      <td>0</td>\n",
              "      <td>0</td>\n",
              "      <td>0</td>\n",
              "      <td>0</td>\n",
              "      <td>0</td>\n",
              "      <td>No</td>\n",
              "      <td>Thursday</td>\n",
              "      <td>Wednesday</td>\n",
              "      <td>6</td>\n",
              "    </tr>\n",
              "    <tr>\n",
              "      <th>79658</th>\n",
              "      <td>M</td>\n",
              "      <td>2016-05-24</td>\n",
              "      <td>2016-05-24</td>\n",
              "      <td>60</td>\n",
              "      <td>FONTE GRANDE</td>\n",
              "      <td>0</td>\n",
              "      <td>0</td>\n",
              "      <td>0</td>\n",
              "      <td>0</td>\n",
              "      <td>0</td>\n",
              "      <td>0</td>\n",
              "      <td>No</td>\n",
              "      <td>Tuesday</td>\n",
              "      <td>Tuesday</td>\n",
              "      <td>0</td>\n",
              "    </tr>\n",
              "  </tbody>\n",
              "</table>\n",
              "</div>"
            ],
            "text/plain": [
              "      Gender ScheduledDay  ... AppointmentDay_DOW  Waiting_Time_days\n",
              "50869      M   2016-05-06  ...            Tuesday                  4\n",
              "10542      F   2016-03-29  ...            Tuesday                 49\n",
              "91285      M   2016-06-06  ...             Monday                  0\n",
              "47150      M   2016-05-13  ...            Tuesday                  4\n",
              "84044      F   2016-05-16  ...             Monday                  0\n",
              "47010      M   2016-05-09  ...             Monday                  0\n",
              "81600      F   2016-04-20  ...          Wednesday                 14\n",
              "93429      M   2016-06-01  ...          Wednesday                  0\n",
              "72041      F   2016-05-12  ...          Wednesday                  6\n",
              "79658      M   2016-05-24  ...            Tuesday                  0\n",
              "\n",
              "[10 rows x 15 columns]"
            ]
          },
          "metadata": {
            "tags": []
          },
          "execution_count": 32
        }
      ]
    },
    {
      "cell_type": "markdown",
      "metadata": {
        "id": "x_sslbPXNanq"
      },
      "source": [
        "# Feature distributions"
      ]
    },
    {
      "cell_type": "code",
      "metadata": {
        "colab": {
          "base_uri": "https://localhost:8080/"
        },
        "id": "l64z2D-Y_xJj",
        "outputId": "6270991a-5e2d-4186-c4e1-02c0d41566c3"
      },
      "source": [
        "print(\"NoShow and Show Count of Patients\\n\")\n",
        "print(df.groupby(['NoShow']).size())\n",
        "\n",
        "print(\"\\nNoShow and Show '%' of Patients\\n\")\n",
        "show = df.groupby(['NoShow']).size()[0]/(df.groupby(['NoShow']).size()[0]+df.groupby(['NoShow']).size()[1])\n",
        "print(\"Percent of Patients who `Showed Up` => {:.2f}%\".format(show*100))\n",
        "noshow = df.groupby(['NoShow']).size()[1]/(df.groupby(['NoShow']).size()[0]+df.groupby(['NoShow']).size()[1])\n",
        "print(\"Percent of Patients who Did `Not Showed Up` => {:.2f}%\".format(noshow*100))"
      ],
      "execution_count": 33,
      "outputs": [
        {
          "output_type": "stream",
          "text": [
            "NoShow and Show Count of Patients\n",
            "\n",
            "NoShow\n",
            "No     88207\n",
            "Yes    22319\n",
            "dtype: int64\n",
            "\n",
            "NoShow and Show '%' of Patients\n",
            "\n",
            "Percent of Patients who `Showed Up` => 79.81%\n",
            "Percent of Patients who Did `Not Showed Up` => 20.19%\n"
          ],
          "name": "stdout"
        }
      ]
    },
    {
      "cell_type": "code",
      "metadata": {
        "colab": {
          "base_uri": "https://localhost:8080/",
          "height": 295
        },
        "id": "hRjN0TRr_90X",
        "outputId": "66ccee79-db03-43a7-cd71-bfce311f5752"
      },
      "source": [
        "sns.countplot(x=df.NoShow, data=df)\n",
        "plt.title(\"Show/NoShow Patients\")\n",
        "plt.show()"
      ],
      "execution_count": 34,
      "outputs": [
        {
          "output_type": "display_data",
          "data": {
            "image/png": "[encoded data removed]",
            "text/plain": [
              "<Figure size 432x288 with 1 Axes>"
            ]
          },
          "metadata": {
            "tags": [],
            "needs_background": "light"
          }
        }
      ]
    },
    {
      "cell_type": "markdown",
      "metadata": {
        "id": "lCH87SKUGwp6"
      },
      "source": [
        "## gender"
      ]
    },
    {
      "cell_type": "code",
      "metadata": {
        "colab": {
          "base_uri": "https://localhost:8080/",
          "height": 295
        },
        "id": "GHhEZgxr__bc",
        "outputId": "ff8ad0ef-4bd4-4301-8306-646a73729731"
      },
      "source": [
        "ax = sns.countplot(x=df.Gender, hue=df.NoShow, data=df)\n",
        "plt.title(\"Show/NoShow for Females and Males\")\n",
        "x_ticks_labels=['Female', 'Male']\n",
        "plt.xticks((0,1), x_ticks_labels)\n",
        "plt.show()"
      ],
      "execution_count": 35,
      "outputs": [
        {
          "output_type": "display_data",
          "data": {
            "image/png": "[encoded data removed]",
            "text/plain": [
              "<Figure size 432x288 with 1 Axes>"
            ]
          },
          "metadata": {
            "tags": [],
            "needs_background": "light"
          }
        }
      ]
    },
    {
      "cell_type": "code",
      "metadata": {
        "colab": {
          "base_uri": "https://localhost:8080/",
          "height": 295
        },
        "id": "3A3ln-j6G_NR",
        "outputId": "2f38fe66-1e3c-4928-eecb-b824a61698c4"
      },
      "source": [
        "df_s_ratio = df[df.NoShow == 'No'].groupby(['Gender']).size()/df.groupby(['Gender']).size()\n",
        "sns.barplot(x=df_s_ratio.index, y=df_s_ratio, palette=\"RdBu_r\")\n",
        "plt.title(\"Show Percentage for Scholarship\")\n",
        "x_ticks_labels=['Female', 'Male']\n",
        "plt.xticks((0,1), x_ticks_labels)\n",
        "plt.show()"
      ],
      "execution_count": 36,
      "outputs": [
        {
          "output_type": "display_data",
          "data": {
            "image/png": "[encoded data removed]",
            "text/plain": [
              "<Figure size 432x288 with 1 Axes>"
            ]
          },
          "metadata": {
            "tags": [],
            "needs_background": "light"
          }
        }
      ]
    },
    {
      "cell_type": "markdown",
      "metadata": {
        "id": "laiMyxotHbAc"
      },
      "source": [
        "## Age"
      ]
    },
    {
      "cell_type": "code",
      "metadata": {
        "colab": {
          "base_uri": "https://localhost:8080/",
          "height": 180
        },
        "id": "o8rlm11FACWx",
        "outputId": "527787eb-7d54-4157-de1c-b9ab854f1414"
      },
      "source": [
        "plt.figure(figsize=(16,2))\n",
        "plt.xticks(rotation=90)\n",
        "sns.boxplot(x=df.Age);"
      ],
      "execution_count": 37,
      "outputs": [
        {
          "output_type": "display_data",
          "data": {
            "image/png": "[encoded data removed]",
            "text/plain": [
              "<Figure size 1152x144 with 1 Axes>"
            ]
          },
          "metadata": {
            "tags": [],
            "needs_background": "light"
          }
        }
      ]
    },
    {
      "cell_type": "code",
      "metadata": {
        "colab": {
          "base_uri": "https://localhost:8080/",
          "height": 295
        },
        "id": "uEro8daoAE5-",
        "outputId": "ee29b505-97aa-4825-e582-18991cb6f94d"
      },
      "source": [
        "plt.figure(figsize=(16,4))\n",
        "sns.kdeplot(x=df.Age)\n",
        "plt.title(\"No of Appointments by Age\")\n",
        "plt.xlim(0)\n",
        "plt.show()"
      ],
      "execution_count": 38,
      "outputs": [
        {
          "output_type": "display_data",
          "data": {
            "image/png": "[encoded data removed]",
            "text/plain": [
              "<Figure size 1152x288 with 1 Axes>"
            ]
          },
          "metadata": {
            "tags": [],
            "needs_background": "light"
          }
        }
      ]
    },
    {
      "cell_type": "code",
      "metadata": {
        "colab": {
          "base_uri": "https://localhost:8080/",
          "height": 295
        },
        "id": "EUjIkdkAAWlw",
        "outputId": "b7fe3c8c-647a-4f55-adf4-c2658e92a0f6"
      },
      "source": [
        "plt.figure(figsize=(16,4))\n",
        "sns.kdeplot(x=df.Age, hue=df.NoShow)\n",
        "plt.title(\"Show/NoShow of Appointments by Age\")\n",
        "plt.xlim(0)\n",
        "plt.show()"
      ],
      "execution_count": 39,
      "outputs": [
        {
          "output_type": "display_data",
          "data": {
            "image/png": "[encoded data removed]",
            "text/plain": [
              "<Figure size 1152x288 with 1 Axes>"
            ]
          },
          "metadata": {
            "tags": [],
            "needs_background": "light"
          }
        }
      ]
    },
    {
      "cell_type": "code",
      "metadata": {
        "id": "jjBLSVPfAqMP"
      },
      "source": [
        "df_age_ratio = df[df.NoShow == 'No'].groupby(['Age']).size()/df.groupby(['Age']).size()"
      ],
      "execution_count": 40,
      "outputs": []
    },
    {
      "cell_type": "code",
      "metadata": {
        "colab": {
          "base_uri": "https://localhost:8080/",
          "height": 304
        },
        "id": "2SjhRY-pAsnG",
        "outputId": "c669b52e-5993-441e-8d6b-c595a054dd19"
      },
      "source": [
        "plt.figure(figsize=(16,4))\n",
        "plt.xticks(rotation=90)\n",
        "sns.barplot(x=df_age_ratio.index, y=df_age_ratio)\n",
        "plt.title(\"Percentage of Patients that Showed Up by Age\")\n",
        "plt.show()"
      ],
      "execution_count": 41,
      "outputs": [
        {
          "output_type": "display_data",
          "data": {
            "image/png": "[encoded data removed]",
            "text/plain": [
              "<Figure size 1152x288 with 1 Axes>"
            ]
          },
          "metadata": {
            "tags": [],
            "needs_background": "light"
          }
        }
      ]
    },
    {
      "cell_type": "code",
      "metadata": {
        "colab": {
          "base_uri": "https://localhost:8080/",
          "height": 287
        },
        "id": "RcD1CndABBMr",
        "outputId": "8e686f38-289f-4dda-fda9-7a0ddbd8bdd1"
      },
      "source": [
        "plt.figure(figsize=(16,4))\n",
        "plt.xticks(rotation=90)\n",
        "plt.hist(df_age_ratio)\n",
        "plt.title(\"Distribution of Percentage Show Up by Age\")\n",
        "plt.show()"
      ],
      "execution_count": 42,
      "outputs": [
        {
          "output_type": "display_data",
          "data": {
            "image/png": "[encoded data removed]",
            "text/plain": [
              "<Figure size 1152x288 with 1 Axes>"
            ]
          },
          "metadata": {
            "tags": [],
            "needs_background": "light"
          }
        }
      ]
    },
    {
      "cell_type": "markdown",
      "metadata": {
        "id": "cPCRx1kqHema"
      },
      "source": [
        "## Neighbourhood"
      ]
    },
    {
      "cell_type": "code",
      "metadata": {
        "colab": {
          "base_uri": "https://localhost:8080/",
          "height": 434
        },
        "id": "wIb6lhhOBEtZ",
        "outputId": "99a14b5b-53f2-4eb9-db9e-28bb1ae210a9"
      },
      "source": [
        "plt.figure(figsize=(16,4))\n",
        "plt.xticks(rotation=90)\n",
        "sns.countplot(x=np.sort(df.Neighbourhood))\n",
        "plt.title(\"No of Appointments by Neighbourhood\")\n",
        "plt.show()"
      ],
      "execution_count": 43,
      "outputs": [
        {
          "output_type": "display_data",
          "data": {
            "image/png": "[encoded data removed]",
            "text/plain": [
              "<Figure size 1152x288 with 1 Axes>"
            ]
          },
          "metadata": {
            "tags": [],
            "needs_background": "light"
          }
        }
      ]
    },
    {
      "cell_type": "code",
      "metadata": {
        "id": "LqFYhfhLBGQs"
      },
      "source": [
        "df_n_ratio = df[df.NoShow == 'No'].groupby(['Neighbourhood']).size()/df.groupby(['Neighbourhood']).size()"
      ],
      "execution_count": 44,
      "outputs": []
    },
    {
      "cell_type": "code",
      "metadata": {
        "colab": {
          "base_uri": "https://localhost:8080/",
          "height": 448
        },
        "id": "a1lu6j2HExzf",
        "outputId": "bbd7206b-8fef-4066-a941-92bcfa1cc35c"
      },
      "source": [
        "plt.figure(figsize=(16,4))\n",
        "plt.xticks(rotation=90)\n",
        "sns.barplot(x=df_n_ratio.index, y=df_n_ratio)\n",
        "plt.title(\"Percetage Show Up of Patients by Neighbourhood\")\n",
        "plt.show()"
      ],
      "execution_count": 45,
      "outputs": [
        {
          "output_type": "display_data",
          "data": {
            "image/png": "[encoded data removed]",
            "text/plain": [
              "<Figure size 1152x288 with 1 Axes>"
            ]
          },
          "metadata": {
            "tags": [],
            "needs_background": "light"
          }
        }
      ]
    },
    {
      "cell_type": "markdown",
      "metadata": {
        "id": "sBtA8verHjq1"
      },
      "source": [
        "## Scholarship"
      ]
    },
    {
      "cell_type": "code",
      "metadata": {
        "colab": {
          "base_uri": "https://localhost:8080/",
          "height": 295
        },
        "id": "OxKUgQT1E4y2",
        "outputId": "ba61e639-9042-4da1-fc7a-f0544bdc8e15"
      },
      "source": [
        "sns.countplot(x=df.Scholarship, hue=df.NoShow, data=df)\n",
        "plt.title(\"Show/NoShow for Scholarship\")\n",
        "x_ticks_labels=['No Scholarship', 'Scholarship']\n",
        "plt.xticks((0,1), x_ticks_labels)\n",
        "plt.show()"
      ],
      "execution_count": 46,
      "outputs": [
        {
          "output_type": "display_data",
          "data": {
            "image/png": "[encoded data removed]",
            "text/plain": [
              "<Figure size 432x288 with 1 Axes>"
            ]
          },
          "metadata": {
            "tags": [],
            "needs_background": "light"
          }
        }
      ]
    },
    {
      "cell_type": "code",
      "metadata": {
        "colab": {
          "base_uri": "https://localhost:8080/",
          "height": 295
        },
        "id": "ofPHYd6QFDtr",
        "outputId": "b56ca9d0-2c39-4cda-e41f-67957c8be934"
      },
      "source": [
        "df_s_ratio = df[df.NoShow == 'No'].groupby(['Scholarship']).size()/df.groupby(['Scholarship']).size()\n",
        "sns.barplot(x=df_s_ratio.index, y=df_s_ratio, palette=\"RdBu_r\")\n",
        "plt.title(\"Show Percentage for Scholarship\")\n",
        "x_ticks_labels=['No Scholarship', 'Scholarship']\n",
        "plt.xticks((0,1), x_ticks_labels)\n",
        "plt.show()"
      ],
      "execution_count": 47,
      "outputs": [
        {
          "output_type": "display_data",
          "data": {
            "image/png": "[encoded data removed]",
            "text/plain": [
              "<Figure size 432x288 with 1 Axes>"
            ]
          },
          "metadata": {
            "tags": [],
            "needs_background": "light"
          }
        }
      ]
    },
    {
      "cell_type": "markdown",
      "metadata": {
        "id": "sdAJH7mCHmzZ"
      },
      "source": [
        "## Hypertension"
      ]
    },
    {
      "cell_type": "code",
      "metadata": {
        "colab": {
          "base_uri": "https://localhost:8080/",
          "height": 295
        },
        "id": "nu7OoOmkFgf2",
        "outputId": "3ec16f8b-cb40-42c9-96f0-d1f2ed72b513"
      },
      "source": [
        "sns.countplot(x=df.Hypertension, hue=df.NoShow, data=df)\n",
        "plt.title(\"Show/NoShow for Hypertension\")\n",
        "x_ticks_labels=['No Hypertension', 'Hypertension']\n",
        "plt.xticks((0,1), x_ticks_labels)\n",
        "plt.show()"
      ],
      "execution_count": 48,
      "outputs": [
        {
          "output_type": "display_data",
          "data": {
            "image/png": "[encoded data removed]",
            "text/plain": [
              "<Figure size 432x288 with 1 Axes>"
            ]
          },
          "metadata": {
            "tags": [],
            "needs_background": "light"
          }
        }
      ]
    },
    {
      "cell_type": "code",
      "metadata": {
        "colab": {
          "base_uri": "https://localhost:8080/",
          "height": 295
        },
        "id": "__JW5AJHFqzC",
        "outputId": "ce4ed1b9-837d-47bd-860a-1f03caf5bae8"
      },
      "source": [
        "df_h_ratio = df[df.NoShow == 'No'].groupby(['Hypertension']).size()/df.groupby(['Hypertension']).size()\n",
        "sns.barplot(x=df_h_ratio.index, y=df_h_ratio, palette=\"RdBu_r\")\n",
        "plt.title(\"Show Percentage for Hypertension\")\n",
        "x_ticks_labels=['No Hypertension', 'Hypertension']\n",
        "plt.xticks((0,1), x_ticks_labels)\n",
        "plt.show()"
      ],
      "execution_count": 49,
      "outputs": [
        {
          "output_type": "display_data",
          "data": {
            "image/png": "[encoded data removed]",
            "text/plain": [
              "<Figure size 432x288 with 1 Axes>"
            ]
          },
          "metadata": {
            "tags": [],
            "needs_background": "light"
          }
        }
      ]
    },
    {
      "cell_type": "markdown",
      "metadata": {
        "id": "-00Tl0SAHpWT"
      },
      "source": [
        "## Diabetes"
      ]
    },
    {
      "cell_type": "code",
      "metadata": {
        "colab": {
          "base_uri": "https://localhost:8080/",
          "height": 295
        },
        "id": "fosMmDUgF451",
        "outputId": "7d3d0060-0562-48cb-8125-9d1462293ac2"
      },
      "source": [
        "sns.countplot(x=df.Diabetes, hue=df.NoShow, data=df)\n",
        "plt.title(\"Show/NoShow for Diabetes\")\n",
        "x_ticks_labels=['No Diabetes', 'Diabetes']\n",
        "plt.xticks((0,1), x_ticks_labels)\n",
        "plt.show()"
      ],
      "execution_count": 50,
      "outputs": [
        {
          "output_type": "display_data",
          "data": {
            "image/png": "[encoded data removed]",
            "text/plain": [
              "<Figure size 432x288 with 1 Axes>"
            ]
          },
          "metadata": {
            "tags": [],
            "needs_background": "light"
          }
        }
      ]
    },
    {
      "cell_type": "code",
      "metadata": {
        "colab": {
          "base_uri": "https://localhost:8080/",
          "height": 295
        },
        "id": "dmi3el-IGBrO",
        "outputId": "2898fd6f-2dd7-4491-87f6-1d77ae05a460"
      },
      "source": [
        "df_d_ratio = df[df.NoShow == 'No'].groupby(['Diabetes']).size()/df.groupby(['Diabetes']).size()\n",
        "sns.barplot(x=df_d_ratio.index, y=df_d_ratio, palette=\"RdBu_r\")\n",
        "plt.title(\"Show Percentage for Diabetes\")\n",
        "x_ticks_labels=['No Diabetes', 'Diabetes']\n",
        "plt.xticks((0,1), x_ticks_labels)\n",
        "plt.show()"
      ],
      "execution_count": 51,
      "outputs": [
        {
          "output_type": "display_data",
          "data": {
            "image/png": "[encoded data removed]",
            "text/plain": [
              "<Figure size 432x288 with 1 Axes>"
            ]
          },
          "metadata": {
            "tags": [],
            "needs_background": "light"
          }
        }
      ]
    },
    {
      "cell_type": "markdown",
      "metadata": {
        "id": "3Lsr4DpIHxNa"
      },
      "source": [
        "## Alcoholism"
      ]
    },
    {
      "cell_type": "code",
      "metadata": {
        "colab": {
          "base_uri": "https://localhost:8080/",
          "height": 295
        },
        "id": "BvWMRJOLGDVt",
        "outputId": "2c8a555c-5bf7-4862-d49e-0df3f71893e5"
      },
      "source": [
        "sns.countplot(x=df.Alcoholism, hue=df.NoShow, data=df)\n",
        "plt.title(\"Show/NoShow for Alcoholism\")\n",
        "x_ticks_labels=['No Alcoholism', 'Alcoholism']\n",
        "plt.xticks((0,1), x_ticks_labels)\n",
        "plt.show()"
      ],
      "execution_count": 52,
      "outputs": [
        {
          "output_type": "display_data",
          "data": {
            "image/png": "[encoded data removed]",
            "text/plain": [
              "<Figure size 432x288 with 1 Axes>"
            ]
          },
          "metadata": {
            "tags": [],
            "needs_background": "light"
          }
        }
      ]
    },
    {
      "cell_type": "code",
      "metadata": {
        "colab": {
          "base_uri": "https://localhost:8080/",
          "height": 295
        },
        "id": "1IPN_IhtGLAS",
        "outputId": "0d444b09-9ca3-42ee-8d1d-4fe178376fc9"
      },
      "source": [
        "df_a_ratio = df[df.NoShow == 'No'].groupby(['Alcoholism']).size()/df.groupby(['Alcoholism']).size()\n",
        "sns.barplot(x=df_a_ratio.index, y=df_a_ratio, palette=\"RdBu_r\")\n",
        "plt.title(\"Show Percentage for Alcoholism\")\n",
        "x_ticks_labels=['No Alcoholism', 'Alcoholism']\n",
        "plt.xticks((0,1), x_ticks_labels)\n",
        "plt.show()"
      ],
      "execution_count": 53,
      "outputs": [
        {
          "output_type": "display_data",
          "data": {
            "image/png": "[encoded data removed]",
            "text/plain": [
              "<Figure size 432x288 with 1 Axes>"
            ]
          },
          "metadata": {
            "tags": [],
            "needs_background": "light"
          }
        }
      ]
    },
    {
      "cell_type": "markdown",
      "metadata": {
        "id": "mHQJzSnPIJCg"
      },
      "source": [
        "## Handicap"
      ]
    },
    {
      "cell_type": "code",
      "metadata": {
        "colab": {
          "base_uri": "https://localhost:8080/",
          "height": 295
        },
        "id": "eVVEf-YzGMow",
        "outputId": "fa2790f1-48ae-4ae9-ffad-c691031ae0ac"
      },
      "source": [
        "sns.countplot(x=df.Handicap, hue=df.NoShow, data=df)\n",
        "plt.title(\"Show/NoShow for Handicap\")\n",
        "plt.show()"
      ],
      "execution_count": 54,
      "outputs": [
        {
          "output_type": "display_data",
          "data": {
            "image/png": "[encoded data removed]",
            "text/plain": [
              "<Figure size 432x288 with 1 Axes>"
            ]
          },
          "metadata": {
            "tags": [],
            "needs_background": "light"
          }
        }
      ]
    },
    {
      "cell_type": "code",
      "metadata": {
        "colab": {
          "base_uri": "https://localhost:8080/",
          "height": 295
        },
        "id": "0HzBBOzzGOeJ",
        "outputId": "7b9d79bc-fa37-4d35-b8cc-8914344bf9f3"
      },
      "source": [
        "df_ha_ratio = df[df.NoShow == 'No'].groupby(['Handicap']).size()/df.groupby(['Handicap']).size()\n",
        "ax = sns.barplot(x=df_ha_ratio.index, y=df_ha_ratio, palette=\"RdBu_r\")\n",
        "plt.title(\"Show Percentage for Handicap\")\n",
        "plt.show()"
      ],
      "execution_count": 55,
      "outputs": [
        {
          "output_type": "display_data",
          "data": {
            "image/png": "[encoded data removed]",
            "text/plain": [
              "<Figure size 432x288 with 1 Axes>"
            ]
          },
          "metadata": {
            "tags": [],
            "needs_background": "light"
          }
        }
      ]
    },
    {
      "cell_type": "markdown",
      "metadata": {
        "id": "1GJpeV-RIhD4"
      },
      "source": [
        "## SMSReceived"
      ]
    },
    {
      "cell_type": "code",
      "metadata": {
        "colab": {
          "base_uri": "https://localhost:8080/",
          "height": 295
        },
        "id": "fWLzEHmNGRJl",
        "outputId": "f2d0a7b0-cbf2-43f4-b613-f052e6b96cb7"
      },
      "source": [
        "sns.countplot(x=df.SMSReceived, hue=df.NoShow, data=df)\n",
        "plt.title(\"Show/NoShow for SMSReceived\")\n",
        "x_ticks_labels=['No SMSReceived', 'SMSReceived']\n",
        "plt.xticks((0,1), x_ticks_labels)\n",
        "plt.show()"
      ],
      "execution_count": 56,
      "outputs": [
        {
          "output_type": "display_data",
          "data": {
            "image/png": "[encoded data removed]",
            "text/plain": [
              "<Figure size 432x288 with 1 Axes>"
            ]
          },
          "metadata": {
            "tags": [],
            "needs_background": "light"
          }
        }
      ]
    },
    {
      "cell_type": "code",
      "metadata": {
        "colab": {
          "base_uri": "https://localhost:8080/",
          "height": 295
        },
        "id": "N48ciVwWGS9t",
        "outputId": "e559d629-259b-44a3-c2a1-590aa125d4dc"
      },
      "source": [
        "df_s_ratio = df[df.NoShow == 'No'].groupby(['SMSReceived']).size()/df.groupby(['SMSReceived']).size()\n",
        "sns.barplot(x=df_s_ratio.index, y=df_s_ratio, palette=\"RdBu_r\")\n",
        "plt.title(\"Show Percentage for SMSReceived\")\n",
        "x_ticks_labels=['No SMSReceived', 'SMSReceived']\n",
        "plt.xticks((0,1), x_ticks_labels)\n",
        "plt.show()"
      ],
      "execution_count": 57,
      "outputs": [
        {
          "output_type": "display_data",
          "data": {
            "image/png": "[encoded data removed]",
            "text/plain": [
              "<Figure size 432x288 with 1 Axes>"
            ]
          },
          "metadata": {
            "tags": [],
            "needs_background": "light"
          }
        }
      ]
    },
    {
      "cell_type": "markdown",
      "metadata": {
        "id": "9QxVWHuQIn2c"
      },
      "source": [
        "## Day of Week"
      ]
    },
    {
      "cell_type": "code",
      "metadata": {
        "colab": {
          "base_uri": "https://localhost:8080/",
          "height": 296
        },
        "id": "7VjkitF_GU6C",
        "outputId": "7a6f2bf9-e89c-41fc-8e00-f85c0c4183a7"
      },
      "source": [
        "week_key = ['Monday','Tuesday','Wednesday','Thursday','Friday','Saturday','Sunday']\n",
        "\n",
        "plt.figure(figsize=(16,4))\n",
        "ax = sns.countplot(x=df.ScheduledDay_DOW, order=week_key)\n",
        "plt.title(\"Appointment Count for Scheduled Day of Week\")\n",
        "plt.show()"
      ],
      "execution_count": 58,
      "outputs": [
        {
          "output_type": "display_data",
          "data": {
            "image/png": "[encoded data removed]",
            "text/plain": [
              "<Figure size 1152x288 with 1 Axes>"
            ]
          },
          "metadata": {
            "tags": [],
            "needs_background": "light"
          }
        }
      ]
    },
    {
      "cell_type": "code",
      "metadata": {
        "colab": {
          "base_uri": "https://localhost:8080/",
          "height": 296
        },
        "id": "JUflDGJoGWs8",
        "outputId": "fe1af873-f156-4b43-8030-4620bcbeaf34"
      },
      "source": [
        "plt.figure(figsize=(16,4))\n",
        "sns.countplot(x=df.AppointmentDay_DOW, order=week_key)\n",
        "plt.title(\"Appointment Count for Appointment Day of Week\")\n",
        "plt.show()"
      ],
      "execution_count": 59,
      "outputs": [
        {
          "output_type": "display_data",
          "data": {
            "image/png": "[encoded data removed]",
            "text/plain": [
              "<Figure size 1152x288 with 1 Axes>"
            ]
          },
          "metadata": {
            "tags": [],
            "needs_background": "light"
          }
        }
      ]
    },
    {
      "cell_type": "code",
      "metadata": {
        "colab": {
          "base_uri": "https://localhost:8080/",
          "height": 296
        },
        "id": "Q29lhINrGYSs",
        "outputId": "21a4c601-d795-4296-f5e3-bd6a3bdeba59"
      },
      "source": [
        "plt.figure(figsize=(16,4))\n",
        "sns.countplot(x=df.AppointmentDay_DOW, hue=df.NoShow, order=week_key)\n",
        "plt.title(\"Show/NoShow for Appointment Day of the Week\")\n",
        "plt.show()"
      ],
      "execution_count": 60,
      "outputs": [
        {
          "output_type": "display_data",
          "data": {
            "image/png": "[encoded data removed]",
            "text/plain": [
              "<Figure size 1152x288 with 1 Axes>"
            ]
          },
          "metadata": {
            "tags": [],
            "needs_background": "light"
          }
        }
      ]
    },
    {
      "cell_type": "code",
      "metadata": {
        "colab": {
          "base_uri": "https://localhost:8080/",
          "height": 296
        },
        "id": "PlPKnzf9GZs7",
        "outputId": "34165bfc-38ff-499b-9c58-a1460e5a7d3c"
      },
      "source": [
        "df_a_dow_ratio = df[df.NoShow == 'No'].groupby(['AppointmentDay_DOW']).size()/df.groupby(['AppointmentDay_DOW']).size()\n",
        "plt.figure(figsize=(16,4))\n",
        "sns.barplot(x=df_a_dow_ratio.index, y=df_a_dow_ratio, order=week_key, palette=\"RdBu_r\")\n",
        "plt.title(\"Show Percent for Appointment Day of the Week\")\n",
        "plt.show()"
      ],
      "execution_count": 61,
      "outputs": [
        {
          "output_type": "display_data",
          "data": {
            "image/png": "[encoded data removed]",
            "text/plain": [
              "<Figure size 1152x288 with 1 Axes>"
            ]
          },
          "metadata": {
            "tags": [],
            "needs_background": "light"
          }
        }
      ]
    },
    {
      "cell_type": "markdown",
      "metadata": {
        "id": "Kubn6g2wM4Q5"
      },
      "source": [
        "## waiting time"
      ]
    },
    {
      "cell_type": "code",
      "metadata": {
        "colab": {
          "base_uri": "https://localhost:8080/",
          "height": 296
        },
        "id": "2ntfoCs5GbkU",
        "outputId": "1fd852d7-d725-46d0-c7c9-9a8c6d5a5e20"
      },
      "source": [
        "plt.figure(figsize=(16,4))\n",
        "sns.countplot(x=df.Waiting_Time_days, order=df.Waiting_Time_days.value_counts().iloc[:55].index)\n",
        "plt.title(\"Waiting Time in Days (Descending Order)\")\n",
        "plt.show()"
      ],
      "execution_count": 62,
      "outputs": [
        {
          "output_type": "display_data",
          "data": {
            "image/png": "[encoded data removed]",
            "text/plain": [
              "<Figure size 1152x288 with 1 Axes>"
            ]
          },
          "metadata": {
            "tags": [],
            "needs_background": "light"
          }
        }
      ]
    },
    {
      "cell_type": "code",
      "metadata": {
        "colab": {
          "base_uri": "https://localhost:8080/",
          "height": 296
        },
        "id": "D5_g1_gHGdeA",
        "outputId": "03a9b128-9fc1-485e-a93e-4f6c1e04ea25"
      },
      "source": [
        "plt.figure(figsize=(16,4))\n",
        "sns.countplot(x=df.Waiting_Time_days, order=df.Waiting_Time_days.value_counts(ascending=True).iloc[:55].index)\n",
        "plt.title(\"Waiting Time in Days (Ascending Order)\")\n",
        "plt.show()"
      ],
      "execution_count": 63,
      "outputs": [
        {
          "output_type": "display_data",
          "data": {
            "image/png": "[encoded data removed]",
            "text/plain": [
              "<Figure size 1152x288 with 1 Axes>"
            ]
          },
          "metadata": {
            "tags": [],
            "needs_background": "light"
          }
        }
      ]
    },
    {
      "cell_type": "code",
      "metadata": {
        "colab": {
          "base_uri": "https://localhost:8080/",
          "height": 296
        },
        "id": "dmWzEczmGfcL",
        "outputId": "28abc042-8614-4bab-d283-1f12fa2cec67"
      },
      "source": [
        "plt.figure(figsize=(16,4))\n",
        "sns.countplot(x=df.Waiting_Time_days, hue=df.NoShow, order=df.Waiting_Time_days.value_counts().iloc[:25].index)\n",
        "plt.title(\"Show/NoShow Count for Waiting Time in Days (High Count)\")\n",
        "plt.show()"
      ],
      "execution_count": 64,
      "outputs": [
        {
          "output_type": "display_data",
          "data": {
            "image/png": "[encoded data removed]",
            "text/plain": [
              "<Figure size 1152x288 with 1 Axes>"
            ]
          },
          "metadata": {
            "tags": [],
            "needs_background": "light"
          }
        }
      ]
    },
    {
      "cell_type": "code",
      "metadata": {
        "colab": {
          "base_uri": "https://localhost:8080/",
          "height": 296
        },
        "id": "Ai2o0nXCGhMB",
        "outputId": "484cf948-0e74-42b7-d5ca-583cdbc66b43"
      },
      "source": [
        "plt.figure(figsize=(16,4))\n",
        "sns.countplot(x=df.Waiting_Time_days, hue=df.NoShow, order=df.Waiting_Time_days.value_counts(ascending=True).iloc[:55].index)\n",
        "plt.title(\"Show/NoShow Count for Waiting Time in Days (Low Count)\")\n",
        "plt.show()"
      ],
      "execution_count": 65,
      "outputs": [
        {
          "output_type": "display_data",
          "data": {
            "image/png": "[encoded data removed]",
            "text/plain": [
              "<Figure size 1152x288 with 1 Axes>"
            ]
          },
          "metadata": {
            "tags": [],
            "needs_background": "light"
          }
        }
      ]
    },
    {
      "cell_type": "code",
      "metadata": {
        "colab": {
          "base_uri": "https://localhost:8080/",
          "height": 296
        },
        "id": "jfaJ8IvvGikq",
        "outputId": "243c1e94-24a0-40d2-b854-6a49d48206f4"
      },
      "source": [
        "plt.figure(figsize=(16,4))\n",
        "sns.countplot(x=df[['Waiting_Time_days']].sort_values('Waiting_Time_days', ascending=False).Waiting_Time_days.iloc[:400])\n",
        "plt.title(\"Descending Waiting Time in Days\")\n",
        "plt.show()"
      ],
      "execution_count": 66,
      "outputs": [
        {
          "output_type": "display_data",
          "data": {
            "image/png": "[encoded data removed]",
            "text/plain": [
              "<Figure size 1152x288 with 1 Axes>"
            ]
          },
          "metadata": {
            "tags": [],
            "needs_background": "light"
          }
        }
      ]
    },
    {
      "cell_type": "code",
      "metadata": {
        "colab": {
          "base_uri": "https://localhost:8080/",
          "height": 296
        },
        "id": "zZBPBOPSGkPP",
        "outputId": "e95c4f75-23ab-49c2-eafe-63620de7c38f"
      },
      "source": [
        "plt.figure(figsize=(16,4))\n",
        "ax = sns.countplot(x=df[['Waiting_Time_days']].sort_values('Waiting_Time_days', ascending=False).Waiting_Time_days.iloc[:400], hue=df.NoShow)\n",
        "ax.set_title(\"Show/NoShow - Descending Waiting Time in Days\")\n",
        "plt.show()"
      ],
      "execution_count": 67,
      "outputs": [
        {
          "output_type": "display_data",
          "data": {
            "image/png": "[encoded data removed]",
            "text/plain": [
              "<Figure size 1152x288 with 1 Axes>"
            ]
          },
          "metadata": {
            "tags": [],
            "needs_background": "light"
          }
        }
      ]
    },
    {
      "cell_type": "code",
      "metadata": {
        "colab": {
          "base_uri": "https://localhost:8080/",
          "height": 296
        },
        "id": "pQCEQIL4GmIA",
        "outputId": "c2d8d906-9bf3-439d-e358-84e2b94e382e"
      },
      "source": [
        "df_w_ratio = df[df.NoShow == 'No'].groupby(['Waiting_Time_days']).size()/df.groupby(['Waiting_Time_days']).size()\n",
        "\n",
        "plt.figure(figsize=(16,4))\n",
        "ax = sns.barplot(x=df_w_ratio.index, y=df_w_ratio, order=df.Waiting_Time_days.iloc[:70].index, palette=\"BuGn_d\")\n",
        "ax.set_title(\"Percent of Show for Waiting Time in Days\")\n",
        "plt.show()"
      ],
      "execution_count": 68,
      "outputs": [
        {
          "output_type": "display_data",
          "data": {
            "image/png": "[encoded data removed]",
            "text/plain": [
              "<Figure size 1152x288 with 1 Axes>"
            ]
          },
          "metadata": {
            "tags": [],
            "needs_background": "light"
          }
        }
      ]
    },
    {
      "cell_type": "markdown",
      "metadata": {
        "id": "mOdsrRJ_Nu7r"
      },
      "source": [
        "# Model Building"
      ]
    },
    {
      "cell_type": "markdown",
      "metadata": {
        "id": "uJXPdrkXOHDr"
      },
      "source": [
        "## Encoding"
      ]
    },
    {
      "cell_type": "code",
      "metadata": {
        "colab": {
          "base_uri": "https://localhost:8080/",
          "height": 292
        },
        "id": "FGI427WspogP",
        "outputId": "7fb6112d-e222-438d-ce72-fa81e182d04d"
      },
      "source": [
        "df.head()"
      ],
      "execution_count": 69,
      "outputs": [
        {
          "output_type": "execute_result",
          "data": {
            "text/html": [
              "<div>\n",
              "<style scoped>\n",
              "    .dataframe tbody tr th:only-of-type {\n",
              "        vertical-align: middle;\n",
              "    }\n",
              "\n",
              "    .dataframe tbody tr th {\n",
              "        vertical-align: top;\n",
              "    }\n",
              "\n",
              "    .dataframe thead th {\n",
              "        text-align: right;\n",
              "    }\n",
              "</style>\n",
              "<table border=\"1\" class=\"dataframe\">\n",
              "  <thead>\n",
              "    <tr style=\"text-align: right;\">\n",
              "      <th></th>\n",
              "      <th>Gender</th>\n",
              "      <th>ScheduledDay</th>\n",
              "      <th>AppointmentDay</th>\n",
              "      <th>Age</th>\n",
              "      <th>Neighbourhood</th>\n",
              "      <th>Scholarship</th>\n",
              "      <th>Hypertension</th>\n",
              "      <th>Diabetes</th>\n",
              "      <th>Alcoholism</th>\n",
              "      <th>Handicap</th>\n",
              "      <th>SMSReceived</th>\n",
              "      <th>NoShow</th>\n",
              "      <th>ScheduledDay_DOW</th>\n",
              "      <th>AppointmentDay_DOW</th>\n",
              "      <th>Waiting_Time_days</th>\n",
              "    </tr>\n",
              "  </thead>\n",
              "  <tbody>\n",
              "    <tr>\n",
              "      <th>0</th>\n",
              "      <td>F</td>\n",
              "      <td>2016-04-29</td>\n",
              "      <td>2016-04-29</td>\n",
              "      <td>62</td>\n",
              "      <td>JARDIM DA PENHA</td>\n",
              "      <td>0</td>\n",
              "      <td>1</td>\n",
              "      <td>0</td>\n",
              "      <td>0</td>\n",
              "      <td>0</td>\n",
              "      <td>0</td>\n",
              "      <td>No</td>\n",
              "      <td>Friday</td>\n",
              "      <td>Friday</td>\n",
              "      <td>0</td>\n",
              "    </tr>\n",
              "    <tr>\n",
              "      <th>1</th>\n",
              "      <td>M</td>\n",
              "      <td>2016-04-29</td>\n",
              "      <td>2016-04-29</td>\n",
              "      <td>56</td>\n",
              "      <td>JARDIM DA PENHA</td>\n",
              "      <td>0</td>\n",
              "      <td>0</td>\n",
              "      <td>0</td>\n",
              "      <td>0</td>\n",
              "      <td>0</td>\n",
              "      <td>0</td>\n",
              "      <td>No</td>\n",
              "      <td>Friday</td>\n",
              "      <td>Friday</td>\n",
              "      <td>0</td>\n",
              "    </tr>\n",
              "    <tr>\n",
              "      <th>2</th>\n",
              "      <td>F</td>\n",
              "      <td>2016-04-29</td>\n",
              "      <td>2016-04-29</td>\n",
              "      <td>62</td>\n",
              "      <td>MATA DA PRAIA</td>\n",
              "      <td>0</td>\n",
              "      <td>0</td>\n",
              "      <td>0</td>\n",
              "      <td>0</td>\n",
              "      <td>0</td>\n",
              "      <td>0</td>\n",
              "      <td>No</td>\n",
              "      <td>Friday</td>\n",
              "      <td>Friday</td>\n",
              "      <td>0</td>\n",
              "    </tr>\n",
              "    <tr>\n",
              "      <th>3</th>\n",
              "      <td>F</td>\n",
              "      <td>2016-04-29</td>\n",
              "      <td>2016-04-29</td>\n",
              "      <td>8</td>\n",
              "      <td>PONTAL DE CAMBURI</td>\n",
              "      <td>0</td>\n",
              "      <td>0</td>\n",
              "      <td>0</td>\n",
              "      <td>0</td>\n",
              "      <td>0</td>\n",
              "      <td>0</td>\n",
              "      <td>No</td>\n",
              "      <td>Friday</td>\n",
              "      <td>Friday</td>\n",
              "      <td>0</td>\n",
              "    </tr>\n",
              "    <tr>\n",
              "      <th>4</th>\n",
              "      <td>F</td>\n",
              "      <td>2016-04-29</td>\n",
              "      <td>2016-04-29</td>\n",
              "      <td>56</td>\n",
              "      <td>JARDIM DA PENHA</td>\n",
              "      <td>0</td>\n",
              "      <td>1</td>\n",
              "      <td>1</td>\n",
              "      <td>0</td>\n",
              "      <td>0</td>\n",
              "      <td>0</td>\n",
              "      <td>No</td>\n",
              "      <td>Friday</td>\n",
              "      <td>Friday</td>\n",
              "      <td>0</td>\n",
              "    </tr>\n",
              "  </tbody>\n",
              "</table>\n",
              "</div>"
            ],
            "text/plain": [
              "  Gender ScheduledDay  ... AppointmentDay_DOW  Waiting_Time_days\n",
              "0      F   2016-04-29  ...             Friday                  0\n",
              "1      M   2016-04-29  ...             Friday                  0\n",
              "2      F   2016-04-29  ...             Friday                  0\n",
              "3      F   2016-04-29  ...             Friday                  0\n",
              "4      F   2016-04-29  ...             Friday                  0\n",
              "\n",
              "[5 rows x 15 columns]"
            ]
          },
          "metadata": {
            "tags": []
          },
          "execution_count": 69
        }
      ]
    },
    {
      "cell_type": "code",
      "metadata": {
        "colab": {
          "base_uri": "https://localhost:8080/",
          "height": 132
        },
        "id": "q2UQyV2k5Vzz",
        "outputId": "5107c833-16c1-49d9-8c64-01b09881eaab"
      },
      "source": [
        "df_t = pd.DataFrame()\n",
        "\n",
        "le = LabelEncoder()\n",
        "df_t['Gender'] = pd.Series(le.fit_transform(df['Gender']), index=df.index)\n",
        "df_t['ScheduledDay'] = df['ScheduledDay'].dt.weekday\n",
        "df_t['AppointmentDay'] = df['AppointmentDay'].dt.weekday\n",
        "df_t['wait_time'] = (df['AppointmentDay'] - df['ScheduledDay']).dt.days\n",
        "df_t['Scholarship'] = df['Scholarship']\n",
        "df_t['Hypertension'] = df['Hypertension']\n",
        "df_t['Diabetes'] = df['Diabetes']\n",
        "df_t['Alcoholism'] = df['Alcoholism']\n",
        "df_t['Handicap'] = df['Handicap']\n",
        "df_t['SMSReceived'] = df['SMSReceived']\n",
        "\n",
        "from sklearn.preprocessing import OneHotEncoder\n",
        "\n",
        "enc = OneHotEncoder(handle_unknown='ignore')\n",
        "\n",
        "enc.fit(df['Neighbourhood'].to_numpy().reshape(-1,1))\n",
        "enc_arr = enc.transform(df['Neighbourhood'].to_numpy().reshape(-1,1)).toarray()\n",
        "Neighbourhoods = enc.get_feature_names()\n",
        "df_Neighbourhoods = pd.DataFrame(data=enc_arr, columns=enc.get_feature_names(),\n",
        "                                 index=df.index)\n",
        "\n",
        "df_t = pd.concat([df_t, df_Neighbourhoods], axis=1)\n",
        "\n",
        "le = LabelEncoder()\n",
        "df_t['NoShow'] = le.fit_transform(df['NoShow'])\n",
        "\n",
        "df_t[df_t.isnull().any(axis=1)]"
      ],
      "execution_count": 70,
      "outputs": [
        {
          "output_type": "execute_result",
          "data": {
            "text/html": [
              "<div>\n",
              "<style scoped>\n",
              "    .dataframe tbody tr th:only-of-type {\n",
              "        vertical-align: middle;\n",
              "    }\n",
              "\n",
              "    .dataframe tbody tr th {\n",
              "        vertical-align: top;\n",
              "    }\n",
              "\n",
              "    .dataframe thead th {\n",
              "        text-align: right;\n",
              "    }\n",
              "</style>\n",
              "<table border=\"1\" class=\"dataframe\">\n",
              "  <thead>\n",
              "    <tr style=\"text-align: right;\">\n",
              "      <th></th>\n",
              "      <th>Gender</th>\n",
              "      <th>ScheduledDay</th>\n",
              "      <th>AppointmentDay</th>\n",
              "      <th>wait_time</th>\n",
              "      <th>Scholarship</th>\n",
              "      <th>Hypertension</th>\n",
              "      <th>Diabetes</th>\n",
              "      <th>Alcoholism</th>\n",
              "      <th>Handicap</th>\n",
              "      <th>SMSReceived</th>\n",
              "      <th>x0_AEROPORTO</th>\n",
              "      <th>x0_ANDORINHAS</th>\n",
              "      <th>x0_ANTÔNIO HONÓRIO</th>\n",
              "      <th>x0_ARIOVALDO FAVALESSA</th>\n",
              "      <th>x0_BARRO VERMELHO</th>\n",
              "      <th>x0_BELA VISTA</th>\n",
              "      <th>x0_BENTO FERREIRA</th>\n",
              "      <th>x0_BOA VISTA</th>\n",
              "      <th>x0_BONFIM</th>\n",
              "      <th>x0_CARATOÍRA</th>\n",
              "      <th>x0_CENTRO</th>\n",
              "      <th>x0_COMDUSA</th>\n",
              "      <th>x0_CONQUISTA</th>\n",
              "      <th>x0_CONSOLAÇÃO</th>\n",
              "      <th>x0_CRUZAMENTO</th>\n",
              "      <th>x0_DA PENHA</th>\n",
              "      <th>x0_DE LOURDES</th>\n",
              "      <th>x0_DO CABRAL</th>\n",
              "      <th>x0_DO MOSCOSO</th>\n",
              "      <th>x0_DO QUADRO</th>\n",
              "      <th>x0_ENSEADA DO SUÁ</th>\n",
              "      <th>x0_ESTRELINHA</th>\n",
              "      <th>x0_FONTE GRANDE</th>\n",
              "      <th>x0_FORTE SÃO JOÃO</th>\n",
              "      <th>x0_FRADINHOS</th>\n",
              "      <th>x0_GOIABEIRAS</th>\n",
              "      <th>x0_GRANDE VITÓRIA</th>\n",
              "      <th>x0_GURIGICA</th>\n",
              "      <th>x0_HORTO</th>\n",
              "      <th>x0_ILHA DAS CAIEIRAS</th>\n",
              "      <th>...</th>\n",
              "      <th>x0_JUCUTUQUARA</th>\n",
              "      <th>x0_MARIA ORTIZ</th>\n",
              "      <th>x0_MARUÍPE</th>\n",
              "      <th>x0_MATA DA PRAIA</th>\n",
              "      <th>x0_MONTE BELO</th>\n",
              "      <th>x0_MORADA DE CAMBURI</th>\n",
              "      <th>x0_MÁRIO CYPRESTE</th>\n",
              "      <th>x0_NAZARETH</th>\n",
              "      <th>x0_NOVA PALESTINA</th>\n",
              "      <th>x0_PARQUE INDUSTRIAL</th>\n",
              "      <th>x0_PARQUE MOSCOSO</th>\n",
              "      <th>x0_PIEDADE</th>\n",
              "      <th>x0_PONTAL DE CAMBURI</th>\n",
              "      <th>x0_PRAIA DO CANTO</th>\n",
              "      <th>x0_PRAIA DO SUÁ</th>\n",
              "      <th>x0_REDENÇÃO</th>\n",
              "      <th>x0_REPÚBLICA</th>\n",
              "      <th>x0_RESISTÊNCIA</th>\n",
              "      <th>x0_ROMÃO</th>\n",
              "      <th>x0_SANTA CECÍLIA</th>\n",
              "      <th>x0_SANTA CLARA</th>\n",
              "      <th>x0_SANTA HELENA</th>\n",
              "      <th>x0_SANTA LUÍZA</th>\n",
              "      <th>x0_SANTA LÚCIA</th>\n",
              "      <th>x0_SANTA MARTHA</th>\n",
              "      <th>x0_SANTA TEREZA</th>\n",
              "      <th>x0_SANTO ANDRÉ</th>\n",
              "      <th>x0_SANTO ANTÔNIO</th>\n",
              "      <th>x0_SANTOS DUMONT</th>\n",
              "      <th>x0_SANTOS REIS</th>\n",
              "      <th>x0_SEGURANÇA DO LAR</th>\n",
              "      <th>x0_SOLON BORGES</th>\n",
              "      <th>x0_SÃO BENEDITO</th>\n",
              "      <th>x0_SÃO CRISTÓVÃO</th>\n",
              "      <th>x0_SÃO JOSÉ</th>\n",
              "      <th>x0_SÃO PEDRO</th>\n",
              "      <th>x0_TABUAZEIRO</th>\n",
              "      <th>x0_UNIVERSITÁRIO</th>\n",
              "      <th>x0_VILA RUBIM</th>\n",
              "      <th>NoShow</th>\n",
              "    </tr>\n",
              "  </thead>\n",
              "  <tbody>\n",
              "  </tbody>\n",
              "</table>\n",
              "<p>0 rows × 92 columns</p>\n",
              "</div>"
            ],
            "text/plain": [
              "Empty DataFrame\n",
              "Columns: [Gender, ScheduledDay, AppointmentDay, wait_time, Scholarship, Hypertension, Diabetes, Alcoholism, Handicap, SMSReceived, x0_AEROPORTO, x0_ANDORINHAS, x0_ANTÔNIO HONÓRIO, x0_ARIOVALDO FAVALESSA, x0_BARRO VERMELHO, x0_BELA VISTA, x0_BENTO FERREIRA, x0_BOA VISTA, x0_BONFIM, x0_CARATOÍRA, x0_CENTRO, x0_COMDUSA, x0_CONQUISTA, x0_CONSOLAÇÃO, x0_CRUZAMENTO, x0_DA PENHA, x0_DE LOURDES, x0_DO CABRAL, x0_DO MOSCOSO, x0_DO QUADRO, x0_ENSEADA DO SUÁ, x0_ESTRELINHA, x0_FONTE GRANDE, x0_FORTE SÃO JOÃO, x0_FRADINHOS, x0_GOIABEIRAS, x0_GRANDE VITÓRIA, x0_GURIGICA, x0_HORTO, x0_ILHA DAS CAIEIRAS, x0_ILHA DE SANTA MARIA, x0_ILHA DO BOI, x0_ILHA DO FRADE, x0_ILHA DO PRÍNCIPE, x0_ILHAS OCEÂNICAS DE TRINDADE, x0_INHANGUETÁ, x0_ITARARÉ, x0_JABOUR, x0_JARDIM CAMBURI, x0_JARDIM DA PENHA, x0_JESUS DE NAZARETH, x0_JOANA D´ARC, x0_JUCUTUQUARA, x0_MARIA ORTIZ, x0_MARUÍPE, x0_MATA DA PRAIA, x0_MONTE BELO, x0_MORADA DE CAMBURI, x0_MÁRIO CYPRESTE, x0_NAZARETH, x0_NOVA PALESTINA, x0_PARQUE INDUSTRIAL, x0_PARQUE MOSCOSO, x0_PIEDADE, x0_PONTAL DE CAMBURI, x0_PRAIA DO CANTO, x0_PRAIA DO SUÁ, x0_REDENÇÃO, x0_REPÚBLICA, x0_RESISTÊNCIA, x0_ROMÃO, x0_SANTA CECÍLIA, x0_SANTA CLARA, x0_SANTA HELENA, x0_SANTA LUÍZA, x0_SANTA LÚCIA, x0_SANTA MARTHA, x0_SANTA TEREZA, x0_SANTO ANDRÉ, x0_SANTO ANTÔNIO, x0_SANTOS DUMONT, x0_SANTOS REIS, x0_SEGURANÇA DO LAR, x0_SOLON BORGES, x0_SÃO BENEDITO, x0_SÃO CRISTÓVÃO, x0_SÃO JOSÉ, x0_SÃO PEDRO, x0_TABUAZEIRO, x0_UNIVERSITÁRIO, x0_VILA RUBIM, NoShow]\n",
              "Index: []\n",
              "\n",
              "[0 rows x 92 columns]"
            ]
          },
          "metadata": {
            "tags": []
          },
          "execution_count": 70
        }
      ]
    },
    {
      "cell_type": "code",
      "metadata": {
        "colab": {
          "base_uri": "https://localhost:8080/"
        },
        "id": "gJfQx4BU3d-u",
        "outputId": "2216b1e5-a2c3-40fc-e109-75b1803dfcda"
      },
      "source": [
        "df_t.info()"
      ],
      "execution_count": 71,
      "outputs": [
        {
          "output_type": "stream",
          "text": [
            "<class 'pandas.core.frame.DataFrame'>\n",
            "Int64Index: 110526 entries, 0 to 110526\n",
            "Data columns (total 92 columns):\n",
            " #   Column                          Non-Null Count   Dtype  \n",
            "---  ------                          --------------   -----  \n",
            " 0   Gender                          110526 non-null  int64  \n",
            " 1   ScheduledDay                    110526 non-null  int64  \n",
            " 2   AppointmentDay                  110526 non-null  int64  \n",
            " 3   wait_time                       110526 non-null  int64  \n",
            " 4   Scholarship                     110526 non-null  object \n",
            " 5   Hypertension                    110526 non-null  object \n",
            " 6   Diabetes                        110526 non-null  object \n",
            " 7   Alcoholism                      110526 non-null  object \n",
            " 8   Handicap                        110526 non-null  object \n",
            " 9   SMSReceived                     110526 non-null  object \n",
            " 10  x0_AEROPORTO                    110526 non-null  float64\n",
            " 11  x0_ANDORINHAS                   110526 non-null  float64\n",
            " 12  x0_ANTÔNIO HONÓRIO              110526 non-null  float64\n",
            " 13  x0_ARIOVALDO FAVALESSA          110526 non-null  float64\n",
            " 14  x0_BARRO VERMELHO               110526 non-null  float64\n",
            " 15  x0_BELA VISTA                   110526 non-null  float64\n",
            " 16  x0_BENTO FERREIRA               110526 non-null  float64\n",
            " 17  x0_BOA VISTA                    110526 non-null  float64\n",
            " 18  x0_BONFIM                       110526 non-null  float64\n",
            " 19  x0_CARATOÍRA                    110526 non-null  float64\n",
            " 20  x0_CENTRO                       110526 non-null  float64\n",
            " 21  x0_COMDUSA                      110526 non-null  float64\n",
            " 22  x0_CONQUISTA                    110526 non-null  float64\n",
            " 23  x0_CONSOLAÇÃO                   110526 non-null  float64\n",
            " 24  x0_CRUZAMENTO                   110526 non-null  float64\n",
            " 25  x0_DA PENHA                     110526 non-null  float64\n",
            " 26  x0_DE LOURDES                   110526 non-null  float64\n",
            " 27  x0_DO CABRAL                    110526 non-null  float64\n",
            " 28  x0_DO MOSCOSO                   110526 non-null  float64\n",
            " 29  x0_DO QUADRO                    110526 non-null  float64\n",
            " 30  x0_ENSEADA DO SUÁ               110526 non-null  float64\n",
            " 31  x0_ESTRELINHA                   110526 non-null  float64\n",
            " 32  x0_FONTE GRANDE                 110526 non-null  float64\n",
            " 33  x0_FORTE SÃO JOÃO               110526 non-null  float64\n",
            " 34  x0_FRADINHOS                    110526 non-null  float64\n",
            " 35  x0_GOIABEIRAS                   110526 non-null  float64\n",
            " 36  x0_GRANDE VITÓRIA               110526 non-null  float64\n",
            " 37  x0_GURIGICA                     110526 non-null  float64\n",
            " 38  x0_HORTO                        110526 non-null  float64\n",
            " 39  x0_ILHA DAS CAIEIRAS            110526 non-null  float64\n",
            " 40  x0_ILHA DE SANTA MARIA          110526 non-null  float64\n",
            " 41  x0_ILHA DO BOI                  110526 non-null  float64\n",
            " 42  x0_ILHA DO FRADE                110526 non-null  float64\n",
            " 43  x0_ILHA DO PRÍNCIPE             110526 non-null  float64\n",
            " 44  x0_ILHAS OCEÂNICAS DE TRINDADE  110526 non-null  float64\n",
            " 45  x0_INHANGUETÁ                   110526 non-null  float64\n",
            " 46  x0_ITARARÉ                      110526 non-null  float64\n",
            " 47  x0_JABOUR                       110526 non-null  float64\n",
            " 48  x0_JARDIM CAMBURI               110526 non-null  float64\n",
            " 49  x0_JARDIM DA PENHA              110526 non-null  float64\n",
            " 50  x0_JESUS DE NAZARETH            110526 non-null  float64\n",
            " 51  x0_JOANA D´ARC                  110526 non-null  float64\n",
            " 52  x0_JUCUTUQUARA                  110526 non-null  float64\n",
            " 53  x0_MARIA ORTIZ                  110526 non-null  float64\n",
            " 54  x0_MARUÍPE                      110526 non-null  float64\n",
            " 55  x0_MATA DA PRAIA                110526 non-null  float64\n",
            " 56  x0_MONTE BELO                   110526 non-null  float64\n",
            " 57  x0_MORADA DE CAMBURI            110526 non-null  float64\n",
            " 58  x0_MÁRIO CYPRESTE               110526 non-null  float64\n",
            " 59  x0_NAZARETH                     110526 non-null  float64\n",
            " 60  x0_NOVA PALESTINA               110526 non-null  float64\n",
            " 61  x0_PARQUE INDUSTRIAL            110526 non-null  float64\n",
            " 62  x0_PARQUE MOSCOSO               110526 non-null  float64\n",
            " 63  x0_PIEDADE                      110526 non-null  float64\n",
            " 64  x0_PONTAL DE CAMBURI            110526 non-null  float64\n",
            " 65  x0_PRAIA DO CANTO               110526 non-null  float64\n",
            " 66  x0_PRAIA DO SUÁ                 110526 non-null  float64\n",
            " 67  x0_REDENÇÃO                     110526 non-null  float64\n",
            " 68  x0_REPÚBLICA                    110526 non-null  float64\n",
            " 69  x0_RESISTÊNCIA                  110526 non-null  float64\n",
            " 70  x0_ROMÃO                        110526 non-null  float64\n",
            " 71  x0_SANTA CECÍLIA                110526 non-null  float64\n",
            " 72  x0_SANTA CLARA                  110526 non-null  float64\n",
            " 73  x0_SANTA HELENA                 110526 non-null  float64\n",
            " 74  x0_SANTA LUÍZA                  110526 non-null  float64\n",
            " 75  x0_SANTA LÚCIA                  110526 non-null  float64\n",
            " 76  x0_SANTA MARTHA                 110526 non-null  float64\n",
            " 77  x0_SANTA TEREZA                 110526 non-null  float64\n",
            " 78  x0_SANTO ANDRÉ                  110526 non-null  float64\n",
            " 79  x0_SANTO ANTÔNIO                110526 non-null  float64\n",
            " 80  x0_SANTOS DUMONT                110526 non-null  float64\n",
            " 81  x0_SANTOS REIS                  110526 non-null  float64\n",
            " 82  x0_SEGURANÇA DO LAR             110526 non-null  float64\n",
            " 83  x0_SOLON BORGES                 110526 non-null  float64\n",
            " 84  x0_SÃO BENEDITO                 110526 non-null  float64\n",
            " 85  x0_SÃO CRISTÓVÃO                110526 non-null  float64\n",
            " 86  x0_SÃO JOSÉ                     110526 non-null  float64\n",
            " 87  x0_SÃO PEDRO                    110526 non-null  float64\n",
            " 88  x0_TABUAZEIRO                   110526 non-null  float64\n",
            " 89  x0_UNIVERSITÁRIO                110526 non-null  float64\n",
            " 90  x0_VILA RUBIM                   110526 non-null  float64\n",
            " 91  NoShow                          110526 non-null  int64  \n",
            "dtypes: float64(81), int64(5), object(6)\n",
            "memory usage: 83.4+ MB\n"
          ],
          "name": "stdout"
        }
      ]
    },
    {
      "cell_type": "code",
      "metadata": {
        "colab": {
          "base_uri": "https://localhost:8080/",
          "height": 287
        },
        "id": "Dme7PwPnOFs2",
        "outputId": "fb2f2443-2b3f-4e26-d297-65a55ca92877"
      },
      "source": [
        "df_t.head()"
      ],
      "execution_count": 72,
      "outputs": [
        {
          "output_type": "execute_result",
          "data": {
            "text/html": [
              "<div>\n",
              "<style scoped>\n",
              "    .dataframe tbody tr th:only-of-type {\n",
              "        vertical-align: middle;\n",
              "    }\n",
              "\n",
              "    .dataframe tbody tr th {\n",
              "        vertical-align: top;\n",
              "    }\n",
              "\n",
              "    .dataframe thead th {\n",
              "        text-align: right;\n",
              "    }\n",
              "</style>\n",
              "<table border=\"1\" class=\"dataframe\">\n",
              "  <thead>\n",
              "    <tr style=\"text-align: right;\">\n",
              "      <th></th>\n",
              "      <th>Gender</th>\n",
              "      <th>ScheduledDay</th>\n",
              "      <th>AppointmentDay</th>\n",
              "      <th>wait_time</th>\n",
              "      <th>Scholarship</th>\n",
              "      <th>Hypertension</th>\n",
              "      <th>Diabetes</th>\n",
              "      <th>Alcoholism</th>\n",
              "      <th>Handicap</th>\n",
              "      <th>SMSReceived</th>\n",
              "      <th>x0_AEROPORTO</th>\n",
              "      <th>x0_ANDORINHAS</th>\n",
              "      <th>x0_ANTÔNIO HONÓRIO</th>\n",
              "      <th>x0_ARIOVALDO FAVALESSA</th>\n",
              "      <th>x0_BARRO VERMELHO</th>\n",
              "      <th>x0_BELA VISTA</th>\n",
              "      <th>x0_BENTO FERREIRA</th>\n",
              "      <th>x0_BOA VISTA</th>\n",
              "      <th>x0_BONFIM</th>\n",
              "      <th>x0_CARATOÍRA</th>\n",
              "      <th>x0_CENTRO</th>\n",
              "      <th>x0_COMDUSA</th>\n",
              "      <th>x0_CONQUISTA</th>\n",
              "      <th>x0_CONSOLAÇÃO</th>\n",
              "      <th>x0_CRUZAMENTO</th>\n",
              "      <th>x0_DA PENHA</th>\n",
              "      <th>x0_DE LOURDES</th>\n",
              "      <th>x0_DO CABRAL</th>\n",
              "      <th>x0_DO MOSCOSO</th>\n",
              "      <th>x0_DO QUADRO</th>\n",
              "      <th>x0_ENSEADA DO SUÁ</th>\n",
              "      <th>x0_ESTRELINHA</th>\n",
              "      <th>x0_FONTE GRANDE</th>\n",
              "      <th>x0_FORTE SÃO JOÃO</th>\n",
              "      <th>x0_FRADINHOS</th>\n",
              "      <th>x0_GOIABEIRAS</th>\n",
              "      <th>x0_GRANDE VITÓRIA</th>\n",
              "      <th>x0_GURIGICA</th>\n",
              "      <th>x0_HORTO</th>\n",
              "      <th>x0_ILHA DAS CAIEIRAS</th>\n",
              "      <th>...</th>\n",
              "      <th>x0_JUCUTUQUARA</th>\n",
              "      <th>x0_MARIA ORTIZ</th>\n",
              "      <th>x0_MARUÍPE</th>\n",
              "      <th>x0_MATA DA PRAIA</th>\n",
              "      <th>x0_MONTE BELO</th>\n",
              "      <th>x0_MORADA DE CAMBURI</th>\n",
              "      <th>x0_MÁRIO CYPRESTE</th>\n",
              "      <th>x0_NAZARETH</th>\n",
              "      <th>x0_NOVA PALESTINA</th>\n",
              "      <th>x0_PARQUE INDUSTRIAL</th>\n",
              "      <th>x0_PARQUE MOSCOSO</th>\n",
              "      <th>x0_PIEDADE</th>\n",
              "      <th>x0_PONTAL DE CAMBURI</th>\n",
              "      <th>x0_PRAIA DO CANTO</th>\n",
              "      <th>x0_PRAIA DO SUÁ</th>\n",
              "      <th>x0_REDENÇÃO</th>\n",
              "      <th>x0_REPÚBLICA</th>\n",
              "      <th>x0_RESISTÊNCIA</th>\n",
              "      <th>x0_ROMÃO</th>\n",
              "      <th>x0_SANTA CECÍLIA</th>\n",
              "      <th>x0_SANTA CLARA</th>\n",
              "      <th>x0_SANTA HELENA</th>\n",
              "      <th>x0_SANTA LUÍZA</th>\n",
              "      <th>x0_SANTA LÚCIA</th>\n",
              "      <th>x0_SANTA MARTHA</th>\n",
              "      <th>x0_SANTA TEREZA</th>\n",
              "      <th>x0_SANTO ANDRÉ</th>\n",
              "      <th>x0_SANTO ANTÔNIO</th>\n",
              "      <th>x0_SANTOS DUMONT</th>\n",
              "      <th>x0_SANTOS REIS</th>\n",
              "      <th>x0_SEGURANÇA DO LAR</th>\n",
              "      <th>x0_SOLON BORGES</th>\n",
              "      <th>x0_SÃO BENEDITO</th>\n",
              "      <th>x0_SÃO CRISTÓVÃO</th>\n",
              "      <th>x0_SÃO JOSÉ</th>\n",
              "      <th>x0_SÃO PEDRO</th>\n",
              "      <th>x0_TABUAZEIRO</th>\n",
              "      <th>x0_UNIVERSITÁRIO</th>\n",
              "      <th>x0_VILA RUBIM</th>\n",
              "      <th>NoShow</th>\n",
              "    </tr>\n",
              "  </thead>\n",
              "  <tbody>\n",
              "    <tr>\n",
              "      <th>0</th>\n",
              "      <td>0</td>\n",
              "      <td>4</td>\n",
              "      <td>4</td>\n",
              "      <td>0</td>\n",
              "      <td>0</td>\n",
              "      <td>1</td>\n",
              "      <td>0</td>\n",
              "      <td>0</td>\n",
              "      <td>0</td>\n",
              "      <td>0</td>\n",
              "      <td>0.0</td>\n",
              "      <td>0.0</td>\n",
              "      <td>0.0</td>\n",
              "      <td>0.0</td>\n",
              "      <td>0.0</td>\n",
              "      <td>0.0</td>\n",
              "      <td>0.0</td>\n",
              "      <td>0.0</td>\n",
              "      <td>0.0</td>\n",
              "      <td>0.0</td>\n",
              "      <td>0.0</td>\n",
              "      <td>0.0</td>\n",
              "      <td>0.0</td>\n",
              "      <td>0.0</td>\n",
              "      <td>0.0</td>\n",
              "      <td>0.0</td>\n",
              "      <td>0.0</td>\n",
              "      <td>0.0</td>\n",
              "      <td>0.0</td>\n",
              "      <td>0.0</td>\n",
              "      <td>0.0</td>\n",
              "      <td>0.0</td>\n",
              "      <td>0.0</td>\n",
              "      <td>0.0</td>\n",
              "      <td>0.0</td>\n",
              "      <td>0.0</td>\n",
              "      <td>0.0</td>\n",
              "      <td>0.0</td>\n",
              "      <td>0.0</td>\n",
              "      <td>0.0</td>\n",
              "      <td>...</td>\n",
              "      <td>0.0</td>\n",
              "      <td>0.0</td>\n",
              "      <td>0.0</td>\n",
              "      <td>0.0</td>\n",
              "      <td>0.0</td>\n",
              "      <td>0.0</td>\n",
              "      <td>0.0</td>\n",
              "      <td>0.0</td>\n",
              "      <td>0.0</td>\n",
              "      <td>0.0</td>\n",
              "      <td>0.0</td>\n",
              "      <td>0.0</td>\n",
              "      <td>0.0</td>\n",
              "      <td>0.0</td>\n",
              "      <td>0.0</td>\n",
              "      <td>0.0</td>\n",
              "      <td>0.0</td>\n",
              "      <td>0.0</td>\n",
              "      <td>0.0</td>\n",
              "      <td>0.0</td>\n",
              "      <td>0.0</td>\n",
              "      <td>0.0</td>\n",
              "      <td>0.0</td>\n",
              "      <td>0.0</td>\n",
              "      <td>0.0</td>\n",
              "      <td>0.0</td>\n",
              "      <td>0.0</td>\n",
              "      <td>0.0</td>\n",
              "      <td>0.0</td>\n",
              "      <td>0.0</td>\n",
              "      <td>0.0</td>\n",
              "      <td>0.0</td>\n",
              "      <td>0.0</td>\n",
              "      <td>0.0</td>\n",
              "      <td>0.0</td>\n",
              "      <td>0.0</td>\n",
              "      <td>0.0</td>\n",
              "      <td>0.0</td>\n",
              "      <td>0.0</td>\n",
              "      <td>0</td>\n",
              "    </tr>\n",
              "    <tr>\n",
              "      <th>1</th>\n",
              "      <td>1</td>\n",
              "      <td>4</td>\n",
              "      <td>4</td>\n",
              "      <td>0</td>\n",
              "      <td>0</td>\n",
              "      <td>0</td>\n",
              "      <td>0</td>\n",
              "      <td>0</td>\n",
              "      <td>0</td>\n",
              "      <td>0</td>\n",
              "      <td>0.0</td>\n",
              "      <td>0.0</td>\n",
              "      <td>0.0</td>\n",
              "      <td>0.0</td>\n",
              "      <td>0.0</td>\n",
              "      <td>0.0</td>\n",
              "      <td>0.0</td>\n",
              "      <td>0.0</td>\n",
              "      <td>0.0</td>\n",
              "      <td>0.0</td>\n",
              "      <td>0.0</td>\n",
              "      <td>0.0</td>\n",
              "      <td>0.0</td>\n",
              "      <td>0.0</td>\n",
              "      <td>0.0</td>\n",
              "      <td>0.0</td>\n",
              "      <td>0.0</td>\n",
              "      <td>0.0</td>\n",
              "      <td>0.0</td>\n",
              "      <td>0.0</td>\n",
              "      <td>0.0</td>\n",
              "      <td>0.0</td>\n",
              "      <td>0.0</td>\n",
              "      <td>0.0</td>\n",
              "      <td>0.0</td>\n",
              "      <td>0.0</td>\n",
              "      <td>0.0</td>\n",
              "      <td>0.0</td>\n",
              "      <td>0.0</td>\n",
              "      <td>0.0</td>\n",
              "      <td>...</td>\n",
              "      <td>0.0</td>\n",
              "      <td>0.0</td>\n",
              "      <td>0.0</td>\n",
              "      <td>0.0</td>\n",
              "      <td>0.0</td>\n",
              "      <td>0.0</td>\n",
              "      <td>0.0</td>\n",
              "      <td>0.0</td>\n",
              "      <td>0.0</td>\n",
              "      <td>0.0</td>\n",
              "      <td>0.0</td>\n",
              "      <td>0.0</td>\n",
              "      <td>0.0</td>\n",
              "      <td>0.0</td>\n",
              "      <td>0.0</td>\n",
              "      <td>0.0</td>\n",
              "      <td>0.0</td>\n",
              "      <td>0.0</td>\n",
              "      <td>0.0</td>\n",
              "      <td>0.0</td>\n",
              "      <td>0.0</td>\n",
              "      <td>0.0</td>\n",
              "      <td>0.0</td>\n",
              "      <td>0.0</td>\n",
              "      <td>0.0</td>\n",
              "      <td>0.0</td>\n",
              "      <td>0.0</td>\n",
              "      <td>0.0</td>\n",
              "      <td>0.0</td>\n",
              "      <td>0.0</td>\n",
              "      <td>0.0</td>\n",
              "      <td>0.0</td>\n",
              "      <td>0.0</td>\n",
              "      <td>0.0</td>\n",
              "      <td>0.0</td>\n",
              "      <td>0.0</td>\n",
              "      <td>0.0</td>\n",
              "      <td>0.0</td>\n",
              "      <td>0.0</td>\n",
              "      <td>0</td>\n",
              "    </tr>\n",
              "    <tr>\n",
              "      <th>2</th>\n",
              "      <td>0</td>\n",
              "      <td>4</td>\n",
              "      <td>4</td>\n",
              "      <td>0</td>\n",
              "      <td>0</td>\n",
              "      <td>0</td>\n",
              "      <td>0</td>\n",
              "      <td>0</td>\n",
              "      <td>0</td>\n",
              "      <td>0</td>\n",
              "      <td>0.0</td>\n",
              "      <td>0.0</td>\n",
              "      <td>0.0</td>\n",
              "      <td>0.0</td>\n",
              "      <td>0.0</td>\n",
              "      <td>0.0</td>\n",
              "      <td>0.0</td>\n",
              "      <td>0.0</td>\n",
              "      <td>0.0</td>\n",
              "      <td>0.0</td>\n",
              "      <td>0.0</td>\n",
              "      <td>0.0</td>\n",
              "      <td>0.0</td>\n",
              "      <td>0.0</td>\n",
              "      <td>0.0</td>\n",
              "      <td>0.0</td>\n",
              "      <td>0.0</td>\n",
              "      <td>0.0</td>\n",
              "      <td>0.0</td>\n",
              "      <td>0.0</td>\n",
              "      <td>0.0</td>\n",
              "      <td>0.0</td>\n",
              "      <td>0.0</td>\n",
              "      <td>0.0</td>\n",
              "      <td>0.0</td>\n",
              "      <td>0.0</td>\n",
              "      <td>0.0</td>\n",
              "      <td>0.0</td>\n",
              "      <td>0.0</td>\n",
              "      <td>0.0</td>\n",
              "      <td>...</td>\n",
              "      <td>0.0</td>\n",
              "      <td>0.0</td>\n",
              "      <td>0.0</td>\n",
              "      <td>1.0</td>\n",
              "      <td>0.0</td>\n",
              "      <td>0.0</td>\n",
              "      <td>0.0</td>\n",
              "      <td>0.0</td>\n",
              "      <td>0.0</td>\n",
              "      <td>0.0</td>\n",
              "      <td>0.0</td>\n",
              "      <td>0.0</td>\n",
              "      <td>0.0</td>\n",
              "      <td>0.0</td>\n",
              "      <td>0.0</td>\n",
              "      <td>0.0</td>\n",
              "      <td>0.0</td>\n",
              "      <td>0.0</td>\n",
              "      <td>0.0</td>\n",
              "      <td>0.0</td>\n",
              "      <td>0.0</td>\n",
              "      <td>0.0</td>\n",
              "      <td>0.0</td>\n",
              "      <td>0.0</td>\n",
              "      <td>0.0</td>\n",
              "      <td>0.0</td>\n",
              "      <td>0.0</td>\n",
              "      <td>0.0</td>\n",
              "      <td>0.0</td>\n",
              "      <td>0.0</td>\n",
              "      <td>0.0</td>\n",
              "      <td>0.0</td>\n",
              "      <td>0.0</td>\n",
              "      <td>0.0</td>\n",
              "      <td>0.0</td>\n",
              "      <td>0.0</td>\n",
              "      <td>0.0</td>\n",
              "      <td>0.0</td>\n",
              "      <td>0.0</td>\n",
              "      <td>0</td>\n",
              "    </tr>\n",
              "    <tr>\n",
              "      <th>3</th>\n",
              "      <td>0</td>\n",
              "      <td>4</td>\n",
              "      <td>4</td>\n",
              "      <td>0</td>\n",
              "      <td>0</td>\n",
              "      <td>0</td>\n",
              "      <td>0</td>\n",
              "      <td>0</td>\n",
              "      <td>0</td>\n",
              "      <td>0</td>\n",
              "      <td>0.0</td>\n",
              "      <td>0.0</td>\n",
              "      <td>0.0</td>\n",
              "      <td>0.0</td>\n",
              "      <td>0.0</td>\n",
              "      <td>0.0</td>\n",
              "      <td>0.0</td>\n",
              "      <td>0.0</td>\n",
              "      <td>0.0</td>\n",
              "      <td>0.0</td>\n",
              "      <td>0.0</td>\n",
              "      <td>0.0</td>\n",
              "      <td>0.0</td>\n",
              "      <td>0.0</td>\n",
              "      <td>0.0</td>\n",
              "      <td>0.0</td>\n",
              "      <td>0.0</td>\n",
              "      <td>0.0</td>\n",
              "      <td>0.0</td>\n",
              "      <td>0.0</td>\n",
              "      <td>0.0</td>\n",
              "      <td>0.0</td>\n",
              "      <td>0.0</td>\n",
              "      <td>0.0</td>\n",
              "      <td>0.0</td>\n",
              "      <td>0.0</td>\n",
              "      <td>0.0</td>\n",
              "      <td>0.0</td>\n",
              "      <td>0.0</td>\n",
              "      <td>0.0</td>\n",
              "      <td>...</td>\n",
              "      <td>0.0</td>\n",
              "      <td>0.0</td>\n",
              "      <td>0.0</td>\n",
              "      <td>0.0</td>\n",
              "      <td>0.0</td>\n",
              "      <td>0.0</td>\n",
              "      <td>0.0</td>\n",
              "      <td>0.0</td>\n",
              "      <td>0.0</td>\n",
              "      <td>0.0</td>\n",
              "      <td>0.0</td>\n",
              "      <td>0.0</td>\n",
              "      <td>1.0</td>\n",
              "      <td>0.0</td>\n",
              "      <td>0.0</td>\n",
              "      <td>0.0</td>\n",
              "      <td>0.0</td>\n",
              "      <td>0.0</td>\n",
              "      <td>0.0</td>\n",
              "      <td>0.0</td>\n",
              "      <td>0.0</td>\n",
              "      <td>0.0</td>\n",
              "      <td>0.0</td>\n",
              "      <td>0.0</td>\n",
              "      <td>0.0</td>\n",
              "      <td>0.0</td>\n",
              "      <td>0.0</td>\n",
              "      <td>0.0</td>\n",
              "      <td>0.0</td>\n",
              "      <td>0.0</td>\n",
              "      <td>0.0</td>\n",
              "      <td>0.0</td>\n",
              "      <td>0.0</td>\n",
              "      <td>0.0</td>\n",
              "      <td>0.0</td>\n",
              "      <td>0.0</td>\n",
              "      <td>0.0</td>\n",
              "      <td>0.0</td>\n",
              "      <td>0.0</td>\n",
              "      <td>0</td>\n",
              "    </tr>\n",
              "    <tr>\n",
              "      <th>4</th>\n",
              "      <td>0</td>\n",
              "      <td>4</td>\n",
              "      <td>4</td>\n",
              "      <td>0</td>\n",
              "      <td>0</td>\n",
              "      <td>1</td>\n",
              "      <td>1</td>\n",
              "      <td>0</td>\n",
              "      <td>0</td>\n",
              "      <td>0</td>\n",
              "      <td>0.0</td>\n",
              "      <td>0.0</td>\n",
              "      <td>0.0</td>\n",
              "      <td>0.0</td>\n",
              "      <td>0.0</td>\n",
              "      <td>0.0</td>\n",
              "      <td>0.0</td>\n",
              "      <td>0.0</td>\n",
              "      <td>0.0</td>\n",
              "      <td>0.0</td>\n",
              "      <td>0.0</td>\n",
              "      <td>0.0</td>\n",
              "      <td>0.0</td>\n",
              "      <td>0.0</td>\n",
              "      <td>0.0</td>\n",
              "      <td>0.0</td>\n",
              "      <td>0.0</td>\n",
              "      <td>0.0</td>\n",
              "      <td>0.0</td>\n",
              "      <td>0.0</td>\n",
              "      <td>0.0</td>\n",
              "      <td>0.0</td>\n",
              "      <td>0.0</td>\n",
              "      <td>0.0</td>\n",
              "      <td>0.0</td>\n",
              "      <td>0.0</td>\n",
              "      <td>0.0</td>\n",
              "      <td>0.0</td>\n",
              "      <td>0.0</td>\n",
              "      <td>0.0</td>\n",
              "      <td>...</td>\n",
              "      <td>0.0</td>\n",
              "      <td>0.0</td>\n",
              "      <td>0.0</td>\n",
              "      <td>0.0</td>\n",
              "      <td>0.0</td>\n",
              "      <td>0.0</td>\n",
              "      <td>0.0</td>\n",
              "      <td>0.0</td>\n",
              "      <td>0.0</td>\n",
              "      <td>0.0</td>\n",
              "      <td>0.0</td>\n",
              "      <td>0.0</td>\n",
              "      <td>0.0</td>\n",
              "      <td>0.0</td>\n",
              "      <td>0.0</td>\n",
              "      <td>0.0</td>\n",
              "      <td>0.0</td>\n",
              "      <td>0.0</td>\n",
              "      <td>0.0</td>\n",
              "      <td>0.0</td>\n",
              "      <td>0.0</td>\n",
              "      <td>0.0</td>\n",
              "      <td>0.0</td>\n",
              "      <td>0.0</td>\n",
              "      <td>0.0</td>\n",
              "      <td>0.0</td>\n",
              "      <td>0.0</td>\n",
              "      <td>0.0</td>\n",
              "      <td>0.0</td>\n",
              "      <td>0.0</td>\n",
              "      <td>0.0</td>\n",
              "      <td>0.0</td>\n",
              "      <td>0.0</td>\n",
              "      <td>0.0</td>\n",
              "      <td>0.0</td>\n",
              "      <td>0.0</td>\n",
              "      <td>0.0</td>\n",
              "      <td>0.0</td>\n",
              "      <td>0.0</td>\n",
              "      <td>0</td>\n",
              "    </tr>\n",
              "  </tbody>\n",
              "</table>\n",
              "<p>5 rows × 92 columns</p>\n",
              "</div>"
            ],
            "text/plain": [
              "   Gender  ScheduledDay  ...  x0_VILA RUBIM  NoShow\n",
              "0       0             4  ...            0.0       0\n",
              "1       1             4  ...            0.0       0\n",
              "2       0             4  ...            0.0       0\n",
              "3       0             4  ...            0.0       0\n",
              "4       0             4  ...            0.0       0\n",
              "\n",
              "[5 rows x 92 columns]"
            ]
          },
          "metadata": {
            "tags": []
          },
          "execution_count": 72
        }
      ]
    },
    {
      "cell_type": "markdown",
      "metadata": {
        "id": "9Y2WvmcVSLyM"
      },
      "source": [
        "## Baseline model"
      ]
    },
    {
      "cell_type": "code",
      "metadata": {
        "id": "aMq7uwU0OQcn"
      },
      "source": [
        "X = df_t.drop(['NoShow'], axis=1)\n",
        "y = df_t['NoShow']"
      ],
      "execution_count": 73,
      "outputs": []
    },
    {
      "cell_type": "code",
      "metadata": {
        "id": "jY-5bkq1OUAq"
      },
      "source": [
        "X_train, X_test, y_train, y_test = train_test_split(X, y, test_size=0.33, random_state=42)"
      ],
      "execution_count": 74,
      "outputs": []
    },
    {
      "cell_type": "code",
      "metadata": {
        "colab": {
          "base_uri": "https://localhost:8080/"
        },
        "id": "3sswx84nOWUM",
        "outputId": "da09f45c-96d7-4653-d12f-cdf2556cb9be"
      },
      "source": [
        "rf_clf = RandomForestClassifier()\n",
        "rf_clf.fit(X_train, y_train)"
      ],
      "execution_count": 75,
      "outputs": [
        {
          "output_type": "execute_result",
          "data": {
            "text/plain": [
              "RandomForestClassifier(bootstrap=True, ccp_alpha=0.0, class_weight=None,\n",
              "                       criterion='gini', max_depth=None, max_features='auto',\n",
              "                       max_leaf_nodes=None, max_samples=None,\n",
              "                       min_impurity_decrease=0.0, min_impurity_split=None,\n",
              "                       min_samples_leaf=1, min_samples_split=2,\n",
              "                       min_weight_fraction_leaf=0.0, n_estimators=100,\n",
              "                       n_jobs=None, oob_score=False, random_state=None,\n",
              "                       verbose=0, warm_start=False)"
            ]
          },
          "metadata": {
            "tags": []
          },
          "execution_count": 75
        }
      ]
    },
    {
      "cell_type": "code",
      "metadata": {
        "colab": {
          "base_uri": "https://localhost:8080/"
        },
        "id": "NY7p-NdiOiRe",
        "outputId": "e7b46d39-4d4e-4bac-92f7-6fd48de49390"
      },
      "source": [
        "print(\"Feature Importance:\\n\")\n",
        "for name, importance in zip(X.columns, np.sort(rf_clf.feature_importances_)[::-1]):\n",
        "    print(f\"{name} -- {round(importance, 2)}\")"
      ],
      "execution_count": 76,
      "outputs": [
        {
          "output_type": "stream",
          "text": [
            "Feature Importance:\n",
            "\n",
            "Gender -- 0.36\n",
            "ScheduledDay -- 0.1\n",
            "AppointmentDay -- 0.1\n",
            "wait_time -- 0.06\n",
            "Scholarship -- 0.03\n",
            "Hypertension -- 0.02\n",
            "Diabetes -- 0.02\n",
            "Alcoholism -- 0.01\n",
            "Handicap -- 0.01\n",
            "SMSReceived -- 0.01\n",
            "x0_AEROPORTO -- 0.01\n",
            "x0_ANDORINHAS -- 0.01\n",
            "x0_ANTÔNIO HONÓRIO -- 0.01\n",
            "x0_ARIOVALDO FAVALESSA -- 0.01\n",
            "x0_BARRO VERMELHO -- 0.01\n",
            "x0_BELA VISTA -- 0.01\n",
            "x0_BENTO FERREIRA -- 0.01\n",
            "x0_BOA VISTA -- 0.01\n",
            "x0_BONFIM -- 0.01\n",
            "x0_CARATOÍRA -- 0.01\n",
            "x0_CENTRO -- 0.01\n",
            "x0_COMDUSA -- 0.01\n",
            "x0_CONQUISTA -- 0.01\n",
            "x0_CONSOLAÇÃO -- 0.01\n",
            "x0_CRUZAMENTO -- 0.01\n",
            "x0_DA PENHA -- 0.01\n",
            "x0_DE LOURDES -- 0.01\n",
            "x0_DO CABRAL -- 0.01\n",
            "x0_DO MOSCOSO -- 0.01\n",
            "x0_DO QUADRO -- 0.01\n",
            "x0_ENSEADA DO SUÁ -- 0.0\n",
            "x0_ESTRELINHA -- 0.0\n",
            "x0_FONTE GRANDE -- 0.0\n",
            "x0_FORTE SÃO JOÃO -- 0.0\n",
            "x0_FRADINHOS -- 0.0\n",
            "x0_GOIABEIRAS -- 0.0\n",
            "x0_GRANDE VITÓRIA -- 0.0\n",
            "x0_GURIGICA -- 0.0\n",
            "x0_HORTO -- 0.0\n",
            "x0_ILHA DAS CAIEIRAS -- 0.0\n",
            "x0_ILHA DE SANTA MARIA -- 0.0\n",
            "x0_ILHA DO BOI -- 0.0\n",
            "x0_ILHA DO FRADE -- 0.0\n",
            "x0_ILHA DO PRÍNCIPE -- 0.0\n",
            "x0_ILHAS OCEÂNICAS DE TRINDADE -- 0.0\n",
            "x0_INHANGUETÁ -- 0.0\n",
            "x0_ITARARÉ -- 0.0\n",
            "x0_JABOUR -- 0.0\n",
            "x0_JARDIM CAMBURI -- 0.0\n",
            "x0_JARDIM DA PENHA -- 0.0\n",
            "x0_JESUS DE NAZARETH -- 0.0\n",
            "x0_JOANA D´ARC -- 0.0\n",
            "x0_JUCUTUQUARA -- 0.0\n",
            "x0_MARIA ORTIZ -- 0.0\n",
            "x0_MARUÍPE -- 0.0\n",
            "x0_MATA DA PRAIA -- 0.0\n",
            "x0_MONTE BELO -- 0.0\n",
            "x0_MORADA DE CAMBURI -- 0.0\n",
            "x0_MÁRIO CYPRESTE -- 0.0\n",
            "x0_NAZARETH -- 0.0\n",
            "x0_NOVA PALESTINA -- 0.0\n",
            "x0_PARQUE INDUSTRIAL -- 0.0\n",
            "x0_PARQUE MOSCOSO -- 0.0\n",
            "x0_PIEDADE -- 0.0\n",
            "x0_PONTAL DE CAMBURI -- 0.0\n",
            "x0_PRAIA DO CANTO -- 0.0\n",
            "x0_PRAIA DO SUÁ -- 0.0\n",
            "x0_REDENÇÃO -- 0.0\n",
            "x0_REPÚBLICA -- 0.0\n",
            "x0_RESISTÊNCIA -- 0.0\n",
            "x0_ROMÃO -- 0.0\n",
            "x0_SANTA CECÍLIA -- 0.0\n",
            "x0_SANTA CLARA -- 0.0\n",
            "x0_SANTA HELENA -- 0.0\n",
            "x0_SANTA LUÍZA -- 0.0\n",
            "x0_SANTA LÚCIA -- 0.0\n",
            "x0_SANTA MARTHA -- 0.0\n",
            "x0_SANTA TEREZA -- 0.0\n",
            "x0_SANTO ANDRÉ -- 0.0\n",
            "x0_SANTO ANTÔNIO -- 0.0\n",
            "x0_SANTOS DUMONT -- 0.0\n",
            "x0_SANTOS REIS -- 0.0\n",
            "x0_SEGURANÇA DO LAR -- 0.0\n",
            "x0_SOLON BORGES -- 0.0\n",
            "x0_SÃO BENEDITO -- 0.0\n",
            "x0_SÃO CRISTÓVÃO -- 0.0\n",
            "x0_SÃO JOSÉ -- 0.0\n",
            "x0_SÃO PEDRO -- 0.0\n",
            "x0_TABUAZEIRO -- 0.0\n",
            "x0_UNIVERSITÁRIO -- 0.0\n",
            "x0_VILA RUBIM -- 0.0\n"
          ],
          "name": "stdout"
        }
      ]
    },
    {
      "cell_type": "code",
      "metadata": {
        "colab": {
          "base_uri": "https://localhost:8080/"
        },
        "id": "6p4Cq7LHO80O",
        "outputId": "e2d90685-483c-4e8f-98b5-c63412bde019"
      },
      "source": [
        "rf_clf.score(X_test, y_test)"
      ],
      "execution_count": 77,
      "outputs": [
        {
          "output_type": "execute_result",
          "data": {
            "text/plain": [
              "0.7758129078247519"
            ]
          },
          "metadata": {
            "tags": []
          },
          "execution_count": 77
        }
      ]
    },
    {
      "cell_type": "code",
      "metadata": {
        "colab": {
          "base_uri": "https://localhost:8080/",
          "height": 448
        },
        "id": "B3JYNBxdQnZW",
        "outputId": "93ceb3b2-e9c0-4d4d-e6a0-9fd8aa548165"
      },
      "source": [
        "print_roc(rf_clf, X_test, y_test)"
      ],
      "execution_count": 78,
      "outputs": [
        {
          "output_type": "stream",
          "text": [
            "              precision    recall  f1-score   support\n",
            "\n",
            "           0       0.82      0.92      0.87     29201\n",
            "           1       0.39      0.21      0.27      7273\n",
            "\n",
            "    accuracy                           0.78     36474\n",
            "   macro avg       0.60      0.56      0.57     36474\n",
            "weighted avg       0.74      0.78      0.75     36474\n",
            "\n"
          ],
          "name": "stdout"
        },
        {
          "output_type": "display_data",
          "data": {
            "image/png": "[encoded data removed]",
            "text/plain": [
              "<Figure size 432x288 with 1 Axes>"
            ]
          },
          "metadata": {
            "tags": [],
            "needs_background": "light"
          }
        }
      ]
    },
    {
      "cell_type": "code",
      "metadata": {
        "colab": {
          "base_uri": "https://localhost:8080/",
          "height": 311
        },
        "id": "UvU0KCYpP8JT",
        "outputId": "3178ff56-ba54-494f-d679-ef8eb6dcad6b"
      },
      "source": [
        "plot_confusion_matrix(rf_clf, X_test, y_test)"
      ],
      "execution_count": 79,
      "outputs": [
        {
          "output_type": "display_data",
          "data": {
            "image/png": "[encoded data removed]",
            "text/plain": [
              "<Figure size 432x288 with 2 Axes>"
            ]
          },
          "metadata": {
            "tags": [],
            "needs_background": "light"
          }
        }
      ]
    },
    {
      "cell_type": "code",
      "metadata": {
        "colab": {
          "base_uri": "https://localhost:8080/",
          "height": 265
        },
        "id": "nIbbSYlY3r5E",
        "outputId": "6c284dda-8d88-4eaa-a6c2-87c65937bad5"
      },
      "source": [
        "plt.hist(rf_clf.predict(X_test));"
      ],
      "execution_count": 82,
      "outputs": [
        {
          "output_type": "display_data",
          "data": {
            "image/png": "[encoded data removed]",
            "text/plain": [
              "<Figure size 432x288 with 1 Axes>"
            ]
          },
          "metadata": {
            "tags": [],
            "needs_background": "light"
          }
        }
      ]
    },
    {
      "cell_type": "code",
      "metadata": {
        "colab": {
          "base_uri": "https://localhost:8080/"
        },
        "id": "j71J1dGpO5qK",
        "outputId": "3dd606ca-028a-4717-b9d9-9ec4b2ee2ad9"
      },
      "source": [
        "params={'n_estimators':[10,20], 'max_depth':[None, 5], 'min_samples_split':[2,3]}\n",
        "rf_clf_grid = RandomForestClassifier(random_state=42)\n",
        "clf_grid = GridSearchCV(rf_clf_grid, params, cv=5, n_jobs=-1, verbose=1)\n",
        "clf_grid.fit(X_train, y_train)\n",
        "print(clf_grid.best_params_)\n",
        "print(clf_grid.best_score_)"
      ],
      "execution_count": 83,
      "outputs": [
        {
          "output_type": "stream",
          "text": [
            "Fitting 5 folds for each of 8 candidates, totalling 40 fits\n"
          ],
          "name": "stdout"
        },
        {
          "output_type": "stream",
          "text": [
            "[Parallel(n_jobs=-1)]: Using backend LokyBackend with 2 concurrent workers.\n",
            "[Parallel(n_jobs=-1)]: Done  40 out of  40 | elapsed:   46.6s finished\n"
          ],
          "name": "stderr"
        },
        {
          "output_type": "stream",
          "text": [
            "{'max_depth': 5, 'min_samples_split': 2, 'n_estimators': 10}\n",
            "0.7968184522234261\n"
          ],
          "name": "stdout"
        }
      ]
    },
    {
      "cell_type": "code",
      "metadata": {
        "colab": {
          "base_uri": "https://localhost:8080/",
          "height": 502
        },
        "id": "CkaHigMfNzdT",
        "outputId": "c3f6f215-ca47-43e3-aa3b-322349627356"
      },
      "source": [
        "print_roc(clf_grid, X_test, y_test)"
      ],
      "execution_count": 84,
      "outputs": [
        {
          "output_type": "stream",
          "text": [
            "/usr/local/lib/python3.6/dist-packages/sklearn/metrics/_classification.py:1272: UndefinedMetricWarning: Precision and F-score are ill-defined and being set to 0.0 in labels with no predicted samples. Use `zero_division` parameter to control this behavior.\n",
            "  _warn_prf(average, modifier, msg_start, len(result))\n"
          ],
          "name": "stderr"
        },
        {
          "output_type": "stream",
          "text": [
            "              precision    recall  f1-score   support\n",
            "\n",
            "           0       0.80      1.00      0.89     29201\n",
            "           1       0.00      0.00      0.00      7273\n",
            "\n",
            "    accuracy                           0.80     36474\n",
            "   macro avg       0.40      0.50      0.44     36474\n",
            "weighted avg       0.64      0.80      0.71     36474\n",
            "\n"
          ],
          "name": "stdout"
        },
        {
          "output_type": "display_data",
          "data": {
            "image/png": "[encoded data removed]",
            "text/plain": [
              "<Figure size 432x288 with 1 Axes>"
            ]
          },
          "metadata": {
            "tags": [],
            "needs_background": "light"
          }
        }
      ]
    },
    {
      "cell_type": "code",
      "metadata": {
        "colab": {
          "base_uri": "https://localhost:8080/",
          "height": 311
        },
        "id": "qe436O0c0JK_",
        "outputId": "dedb7d0d-85af-43d3-eb23-940afda7fbf8"
      },
      "source": [
        "plot_confusion_matrix(clf_grid, X_test, y_test)"
      ],
      "execution_count": 85,
      "outputs": [
        {
          "output_type": "display_data",
          "data": {
            "image/png": "[encoded data removed]",
            "text/plain": [
              "<Figure size 432x288 with 2 Axes>"
            ]
          },
          "metadata": {
            "tags": [],
            "needs_background": "light"
          }
        }
      ]
    },
    {
      "cell_type": "code",
      "metadata": {
        "id": "xiqgdCqX1UMX"
      },
      "source": [
        "precision, recall, threshold = precision_recall_curve\\\n",
        "                                (y_test, clf_grid.predict(X_test))          "
      ],
      "execution_count": 86,
      "outputs": []
    },
    {
      "cell_type": "code",
      "metadata": {
        "colab": {
          "base_uri": "https://localhost:8080/",
          "height": 265
        },
        "id": "Z-yRReBR3dXo",
        "outputId": "56055d5e-f070-4510-8e80-33950ae08c99"
      },
      "source": [
        "plt.hist(clf_grid.predict(X_test));"
      ],
      "execution_count": 87,
      "outputs": [
        {
          "output_type": "display_data",
          "data": {
            "image/png": "[encoded data removed]",
            "text/plain": [
              "<Figure size 432x288 with 1 Axes>"
            ]
          },
          "metadata": {
            "tags": [],
            "needs_background": "light"
          }
        }
      ]
    }
  ]
}